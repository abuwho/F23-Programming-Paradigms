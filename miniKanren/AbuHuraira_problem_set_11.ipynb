{
 "cells": [
  {
   "cell_type": "markdown",
   "metadata": {},
   "source": [
    "### Problem set 11\n",
    "### Submitted by: Abu Huraira"
   ]
  },
  {
   "cell_type": "code",
   "execution_count": 18,
   "metadata": {
    "vscode": {
     "languageId": "racket"
    }
   },
   "outputs": [],
   "source": [
    "(require minikanren)\n",
    "(require minikanren/matche)"
   ]
  },
  {
   "cell_type": "markdown",
   "metadata": {},
   "source": [
    "Consider the following knowledge base:"
   ]
  },
  {
   "cell_type": "code",
   "execution_count": 19,
   "metadata": {
    "vscode": {
     "languageId": "racket"
    }
   },
   "outputs": [],
   "source": [
    "(defrel (studento name group)\n",
    "    (matche (cons name group)\n",
    "        [(alisa . 2)]\n",
    "        [(bob . 1)]\n",
    "        [(chloe . 2)]\n",
    "        [(denise . 1)]\n",
    "        [(edward . 2)]))\n",
    "\n",
    "(defrel (friendo name1 name2)\n",
    "    (matche (cons name1 name2)\n",
    "        [(alisa . bob)]\n",
    "        [(alisa . denise)]\n",
    "        [(bob . chloe)]\n",
    "        [(bob . edward)]\n",
    "        [(chloe . denise)]\n",
    "        [(denise . edward)]))\n",
    "\n",
    "(defrel (parento parent-name child-name)\n",
    "    (matche (cons parent-name child-name)\n",
    "        [(marjorie . bart)]\n",
    "        [(marjorie . lisa)]\n",
    "        [(marjorie . maggie)]\n",
    "        [(homer . bart)]\n",
    "        [(homer . lisa)]\n",
    "        [(homer . maggie)]\n",
    "        [(abraham . homer)]\n",
    "        [(mona . homer)]\n",
    "        [(jacqueline . marjorie)]\n",
    "        [(jacqueline . patty)]\n",
    "        [(jacqueline . selma)]\n",
    "        [(clancy . marjorie)]\n",
    "        [(clancy . patty)]\n",
    "        [(clancy . selma)]\n",
    "        [(selma . ling)]))\n",
    "\n",
    "(defrel (unaryo n)\n",
    "    (conde\n",
    "    [(== 'z n)]\n",
    "    [(fresh (m)\n",
    "        (== `(s ,m) n)\n",
    "        (unaryo m))]))"
   ]
  },
  {
   "cell_type": "markdown",
   "metadata": {},
   "source": [
    "1. Write down and explain the results of the following queries:\n",
    "\n",
    "    (a) `(run* (y z) (friendo alisa y) (friendo y z))`"
   ]
  },
  {
   "cell_type": "code",
   "execution_count": 20,
   "metadata": {
    "vscode": {
     "languageId": "racket"
    }
   },
   "outputs": [
    {
     "data": {
      "text/html": [
       "<code>'((bob chloe) (bob edward) (denise edward))</code>"
      ],
      "text/plain": [
       "'((bob chloe) (bob edward) (denise edward))"
      ]
     },
     "execution_count": 20,
     "metadata": {},
     "output_type": "execute_result"
    }
   ],
   "source": [
    "(run* (y z) (friendo 'alisa y) (friendo y z))"
   ]
  },
  {
   "cell_type": "markdown",
   "metadata": {},
   "source": [
    "**Explanation:** The result is `'((bob chloe) (bob edward) (denise edward))`\n",
    "    \n",
    "The query looks for pairs `(y, z)` where `y` is a friend of Alisa and `z` is a friend of `y`. The result will be a list of all such pairs. "
   ]
  },
  {
   "cell_type": "markdown",
   "metadata": {},
   "source": [
    "(b) `(run* (friendo x y))`"
   ]
  },
  {
   "cell_type": "code",
   "execution_count": 21,
   "metadata": {
    "vscode": {
     "languageId": "racket"
    }
   },
   "outputs": [
    {
     "data": {
      "text/html": [
       "<code>'((alisa bob) (alisa denise) (bob chloe) (bob edward) (chloe denise) (denise edward))</code>"
      ],
      "text/plain": [
       "'((alisa bob) (alisa denise) (bob chloe) (bob edward) (chloe denise) (denise edward))"
      ]
     },
     "execution_count": 21,
     "metadata": {},
     "output_type": "execute_result"
    }
   ],
   "source": [
    "(run* (x y) (friendo x y))"
   ]
  },
  {
   "cell_type": "markdown",
   "metadata": {},
   "source": [
    "**Explanation:** This query looks for all pairs of friends in the knowledge base. The result will be a list of all pairs `(x, y)` where `x` is a friend of `y`."
   ]
  },
  {
   "cell_type": "markdown",
   "metadata": {},
   "source": [
    "(c) `(run* (y) (parento jacqueline y) (parento y ling))`"
   ]
  },
  {
   "cell_type": "code",
   "execution_count": 22,
   "metadata": {
    "vscode": {
     "languageId": "racket"
    }
   },
   "outputs": [
    {
     "data": {
      "text/html": [
       "<code>'(selma)</code>"
      ],
      "text/plain": [
       "'(selma)"
      ]
     },
     "execution_count": 22,
     "metadata": {},
     "output_type": "execute_result"
    }
   ],
   "source": [
    "(run* (y) (parento 'jacqueline y) (parento y 'ling))"
   ]
  },
  {
   "cell_type": "markdown",
   "metadata": {},
   "source": [
    "**Explanation:** Selma is a parent of Ling and Jacqueline is a parent of Selma. "
   ]
  },
  {
   "cell_type": "markdown",
   "metadata": {},
   "source": [
    "2. Write down relation groupmateso that checks whether two students are from the same group.\n",
    "```racket\n",
    "    (run 1 (q) (groupmateso 'alisa 'bob)) ; '()\n",
    "    (run 1 (q) (groupmateso 'alisa 'edward)) ; '(_.0)\n",
    "```\n",
    "\n",
    "**Solution:**"
   ]
  },
  {
   "cell_type": "code",
   "execution_count": 23,
   "metadata": {
    "vscode": {
     "languageId": "racket"
    }
   },
   "outputs": [
    {
     "name": "stdout",
     "output_type": "stream",
     "text": [
      "()\n",
      "(_.0)\n"
     ]
    }
   ],
   "source": [
    "(defrel (groupmateso student1 student2)\n",
    "    (fresh (group)\n",
    "    (conde\n",
    "    [(studento student1 group)\n",
    "     (studento student2 group)])))\n",
    "\n",
    "\n",
    "(displayln (run 1 (q) (groupmateso 'alisa 'bob)))\n",
    "\n",
    "(displayln (run 1 (q) (groupmateso 'alisa 'edward)))"
   ]
  },
  {
   "cell_type": "markdown",
   "metadata": {},
   "source": [
    "3. Implement predicate `relativeo` that checks whether two people are related by blood (share a common ancestor):\n",
    "\n",
    "```racket\n",
    "    (run 1 (q) (relativeo 'selma 'patty)) ; '(_.0)\n",
    "    (run 1 (q) (relativeo 'lisa 'ling)) ; '(_.0)\n",
    "    (run 1 (q) (relativeo 'lisa 'selma)) ; '(_.0)\n",
    "    (run 1 (q) (relativeo 'homer 'selma)) ; '()\n",
    "```\n",
    "\n",
    "**Solution:**"
   ]
  },
  {
   "cell_type": "code",
   "execution_count": 24,
   "metadata": {
    "vscode": {
     "languageId": "racket"
    }
   },
   "outputs": [
    {
     "name": "stdout",
     "output_type": "stream",
     "text": [
      "(_.0)\n",
      "(_.0)\n",
      "(_.0)\n",
      "()\n"
     ]
    }
   ],
   "source": [
    "; First let's define ancestoro function without creating infinitely deep search tree. \n",
    "(defrel (ancestoro name descendant)\n",
    "    (conde\n",
    "    [(parento name descendant)]\n",
    "    [(fresh (child)\n",
    "        (parento name child)\n",
    "        (ancestoro child descendant))]))\n",
    "\n",
    "; Secondly, let's define relativeo function using ancestoro function.\n",
    "(defrel (relativeo person1 person2)\n",
    "    (fresh (ancestor)\n",
    "    (conde\n",
    "        [(ancestoro ancestor person1)\n",
    "        (ancestoro ancestor person2)])))\n",
    "\n",
    "(displayln (run 1 (q) (relativeo 'selma 'patty)))\n",
    "(displayln (run 1 (q) (relativeo 'lisa 'ling)))\n",
    "(displayln (run 1 (q) (relativeo 'lisa 'selma)))\n",
    "(displayln (run 1 (q) (relativeo 'homer 'selma)))"
   ]
  },
  {
   "cell_type": "markdown",
   "metadata": {},
   "source": [
    "4. Implement the following predicates for unary numbers:\n",
    "\n",
    "(a) Implement a predicate `doubleo` that checks if first number is exactly two times the second:\n",
    "```racket\n",
    "    (run 1 (q) (doubleo '(s (s z)) '(s (s (s (s z)))))) ; '(_.0)\n",
    "    (run 1 (x) (doubleo '(s (s z)) x)) ; '((s (s (s (s z)))))\n",
    "    (run 1 (x) (doubleo x '(s (s (s (s z)))))) ; '((s (s z)))\n",
    "    (run 1 (x) (doubleo x '(s (s (s z))))) ; '()\n",
    "```\n",
    "\n",
    "(b) Implement a predicate `leqo` that checks if the first number is less than or equal to the second numbers:\n",
    "```racket\n",
    "    (run 1 (q) (leqo '(s (s z)) '(s (s (s (z)))))) ; '(_.0)\n",
    "    (run 1 (q) (leqo '(s (s (s (s z)))) '(s (s (s z))))) ; '()\n",
    "```\n",
    "\n",
    "(c) Implement multiplication for unary numbers as a predicate `multo`:\n",
    "```racket\n",
    "    (run 1 (x) (multo '(s (s z)) '(s (s (s z))) x)) ; '((s (s (s (s (s (s z)))))))\n",
    "    (run 1 (x) (multo x '(s (s (s z))) '(s (s (s (s (s (s (z))))))))) ; '((s (s z)))\n",
    "```"
   ]
  },
  {
   "cell_type": "code",
   "execution_count": 25,
   "metadata": {
    "vscode": {
     "languageId": "racket"
    }
   },
   "outputs": [
    {
     "name": "stdout",
     "output_type": "stream",
     "text": [
      "doubleo testing...\n",
      "(_.0)\n",
      "((s (s (s (s z)))))\n",
      "((s (s z)))\n",
      "()\n"
     ]
    }
   ],
   "source": [
    "(defrel (doubleo num1 num2)\n",
    "    (conde\n",
    "    [(== 'z num1) (== 'z num2)]\n",
    "    [(fresh (m1 m2)\n",
    "        (== `(s ,m1) num1)\n",
    "        (== `(s (s ,m2)) num2)\n",
    "        (doubleo m1 m2))]))\n",
    "\n",
    "(displayln \"doubleo testing...\")\n",
    "(displayln (run 1 (q) (doubleo '(s (s z)) '(s (s (s (s z))))))) ; '(_.0)\n",
    "(displayln (run 1 (x) (doubleo '(s (s z)) x))) ; '((s (s (s (s z)))))\n",
    "(displayln (run 1 (x) (doubleo x '(s (s (s (s z))))))) ; '((s (s z)))\n",
    "(displayln (run 1 (x) (doubleo x '(s (s (s z)))))) ; '()"
   ]
  },
  {
   "cell_type": "code",
   "execution_count": 26,
   "metadata": {
    "vscode": {
     "languageId": "racket"
    }
   },
   "outputs": [
    {
     "name": "stdout",
     "output_type": "stream",
     "text": [
      "leqo testing...\n",
      "(_.0)\n",
      "()\n"
     ]
    }
   ],
   "source": [
    "(defrel (leqo num1 num2)\n",
    "  (conde\n",
    "    [(== num1 'z)] \n",
    "    [(fresh (m1 m2)\n",
    "       (== num1 `(s ,m1))\n",
    "       (== num2 `(s ,m2))\n",
    "       (leqo m1 m2))]))\n",
    "\n",
    "\n",
    "(displayln \"leqo testing...\")\n",
    "(displayln (run 1 (q) (leqo '(s (s z)) '(s (s (s z)))))) ; '(_.0)\n",
    "(displayln (run 1 (q) (leqo '(s (s (s (s z)))) '(s (s (s z)))))) ; '()\n"
   ]
  },
  {
   "cell_type": "code",
   "execution_count": 28,
   "metadata": {
    "vscode": {
     "languageId": "racket"
    }
   },
   "outputs": [
    {
     "name": "stdout",
     "output_type": "stream",
     "text": [
      "multo testing...\n",
      "\n",
      "((s (s (s (s (s (s z)))))))\n",
      "((s (s z)))\n"
     ]
    }
   ],
   "source": [
    "; First let's define the addo function\n",
    "(defrel (addo a b c)\n",
    "  (conde\n",
    "    [(== 'z a) (== b c)]\n",
    "    [(fresh (d e)\n",
    "      (== `(s ,d) a)\n",
    "      (== `(s ,e) c)\n",
    "      (addo d b e))]))\n",
    "\n",
    "\n",
    "; Secondly, let's define the multo function which utilizes the addo function\n",
    "(defrel (multo a b c)\n",
    "  (conde\n",
    "    [(== 'z a) (== 'z c)]\n",
    "    [(fresh (d e)\n",
    "      (== `(s ,d) a)\n",
    "      (addo b e c)\n",
    "      (multo d b e))]))\n",
    "\n",
    "\n",
    "(displayln \"multo testing...\\n\")\n",
    "(displayln (run 1 (x) (multo '(s (s z)) '(s (s (s z))) x))) ; '((s (s (s (s (s (s z)))))))\n",
    "(displayln (run 1 (x) (multo x '(s (s (s z))) '(s (s (s (s (s (s z))))))))) ; '((s (s z)))"
   ]
  }
 ],
 "metadata": {
  "kernelspec": {
   "display_name": "Racket",
   "language": "racket",
   "name": "racket"
  },
  "language_info": {
   "codemirror_mode": "scheme",
   "file_extension": ".rkt",
   "mimetype": "text/x-racket",
   "name": "Racket",
   "pygments_lexer": "racket",
   "version": "8.10"
  }
 },
 "nbformat": 4,
 "nbformat_minor": 2
}
