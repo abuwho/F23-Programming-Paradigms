{
 "cells": [
  {
   "cell_type": "markdown",
   "metadata": {},
   "source": [
    "## Problem set 12\n",
    "### Submitted by: Abu Huraira (a.huraira@innopolis.university)"
   ]
  },
  {
   "cell_type": "code",
   "execution_count": 24,
   "metadata": {
    "vscode": {
     "languageId": "racket"
    }
   },
   "outputs": [],
   "source": [
    "; Import minikanren\n",
    "(require minikanren)\n",
    "(require minikanren/matche)\n",
    "(require minikanren/numbers)"
   ]
  },
  {
   "cell_type": "markdown",
   "metadata": {},
   "source": [
    "1. Implement the following relations on lists:"
   ]
  },
  {
   "cell_type": "markdown",
   "metadata": {},
   "source": [
    "(a) Implement relation subseqo that checks whether the first list is a subsequence of the second list:\n",
    "\n",
    "```racket\n",
    "    (run* (q) (subseqo '(2 4 5) '(1 2 3 4 5 6)))\n",
    "    ; '(_.0)\n",
    "    (run* (xs) (subseqo xs '(1 2 3)))\n",
    "    ; '(() (1) (2) (1 2) (3) (1 3) (2 3) (1 2 3))\n",
    "    (run* (xs)\n",
    "    (fresh (a b c)\n",
    "    (== xs `(,a ,b ,c))\n",
    "    (subseqo '(1 2) xs)))\n",
    "    ; '((1 2 _.0) (1 _.0 2) (_.0 1 2))\n",
    "```\n",
    "\n",
    "**Solution:**"
   ]
  },
  {
   "cell_type": "code",
   "execution_count": 25,
   "metadata": {
    "vscode": {
     "languageId": "racket"
    }
   },
   "outputs": [
    {
     "name": "stdout",
     "output_type": "stream",
     "text": [
      "(_.0)"
     ]
    },
    {
     "name": "stdout",
     "output_type": "stream",
     "text": [
      "\n",
      "((1 2 _.0) (1 _.0 2) (2 1 _.0) (2 _.0 1) (_.0 1 2) (_.0 2 1))\n"
     ]
    }
   ],
   "source": [
    "; let's utilize the `membero` function from the lecture\n",
    "(defrel (membero x xs)\n",
    "   (fresh (y ys)\n",
    "      (== `(,y . ,ys) xs)\n",
    "        (conde\n",
    "            [(== x y)]\n",
    "            [(membero x ys)])))\n",
    "\n",
    "(defrel (subseqo list1 list2)\n",
    "   (conde\n",
    "      [(== '() list1)]\n",
    "      [(fresh (x y)\n",
    "         (== `(,x . ,y) list1)\n",
    "         (membero x list2)\n",
    "         (subseqo y list2))]))\n",
    "\n",
    "(displayln (run* (q) (subseqo '(2 4 5) '(1 2 3 4 5 6)))) ; '(_.0)\n",
    "; (displayln (run* (xs) (subseqo xs '(1 2 3)))) ; '(() (1) (2) (1 2) (3) (1 3) (2 3) (1 2 3))\n",
    "(displayln (run* (xs)\n",
    "  (fresh (a b c)\n",
    "  (== xs `(,a ,b ,c))\n",
    "  (subseqo '(1 2) xs)))) ; '((1 2 _.0) (1 _.0 2) (_.0 1 2))"
   ]
  }
 ],
 "metadata": {
  "kernelspec": {
   "display_name": "Racket",
   "language": "racket",
   "name": "racket"
  },
  "language_info": {
   "codemirror_mode": "scheme",
   "file_extension": ".rkt",
   "mimetype": "text/x-racket",
   "name": "Racket",
   "pygments_lexer": "racket",
   "version": "8.10"
  }
 },
 "nbformat": 4,
 "nbformat_minor": 2
}
