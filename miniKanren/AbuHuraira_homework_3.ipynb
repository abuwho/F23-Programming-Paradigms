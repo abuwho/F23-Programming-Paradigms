{
 "cells": [
  {
   "cell_type": "markdown",
   "metadata": {},
   "source": [
    "## Homework 3\n",
    "### Submitted by: Abu Huraira"
   ]
  },
  {
   "cell_type": "code",
   "execution_count": 14,
   "metadata": {
    "vscode": {
     "languageId": "racket"
    }
   },
   "outputs": [],
   "source": [
    "(require minikanren)\n",
    "(require minikanren/matche)\n",
    "(require minikanren/numbers)"
   ]
  },
  {
   "cell_type": "markdown",
   "metadata": {},
   "source": [
    "1. Binary trees\n",
    "\n",
    "Consider the following representation of binary trees:\n",
    "• '() — an empty binary tree;\n",
    "• `(node ,value ,left ,right) — a node with a value value and two subtrees (left and right).\n",
    "\n",
    "Exercise 1.1 (⋆, 5 points). Implement a relational program treeo that checks whether a given term is a valid tree.\n",
    "```racket\n",
    "    (run* (q) (treeo 'empty))\n",
    "    ; '(_.0)\n",
    "    (run* (q) (treeo '(node 1 empty (node 2 (node 3 empty empty) empty))))\n",
    "    ; '(_.0)\n",
    "    (run 5 (q) (treeo q))\n",
    "    ; '(empty\n",
    "    ; (node _.0 empty empty)\n",
    "    ; (node _.0 empty (node _.1 empty empty))\n",
    "    ; (node _.0 (node _.1 empty empty) empty)\n",
    "    ; (node _.0 empty (node _.1 empty (node _.2 empty empty))))\n",
    "```"
   ]
  },
  {
   "cell_type": "code",
   "execution_count": 15,
   "metadata": {
    "vscode": {
     "languageId": "racket"
    }
   },
   "outputs": [
    {
     "name": "stdout",
     "output_type": "stream",
     "text": [
      "Testing treeo...\n",
      "(_.0)\n",
      "(_.0)\n",
      "(empty (node _.0 empty empty) (node _.0 empty (node _.1 empty empty)) (node _.0 (node _.1 empty empty) empty) (node _.0 empty (node _.1 empty (node _.2 empty empty))))\n"
     ]
    }
   ],
   "source": [
    "(defrel (treeo tree)\n",
    "  (conde\n",
    "    [(== 'empty tree)]\n",
    "    [(fresh (node val l r)\n",
    "       (== `(node ,val ,l ,r) tree)\n",
    "       (treeo l)\n",
    "       (treeo r))]))\n",
    "\n",
    "(displayln \"Testing treeo...\")\n",
    "(displayln (run* (q) (treeo 'empty)))\n",
    "(displayln (run* (q) (treeo '(node 1 empty (node 2 (node 3 empty empty) empty)))))\n",
    "(displayln (run 5 (q) (treeo q)))"
   ]
  },
  {
   "cell_type": "markdown",
   "metadata": {},
   "source": [
    "Exercise 1.2 (⋆⋆, 5 points). Implement predicate prefix-subtreeo such that (`prefix-subtreeo small large`) is `#t` when small is contained in large:\n",
    "1. an empty tree is contained in any tree;\n",
    "2. a non-empty tree is contained in another non-empty tree when they have the same root and both subtrees are contained in the other subtrees respectively;\n",
    "\n",
    "```racket\n",
    "    (run* (q) (prefix-subtreeo q '(node 3 (node 1 empty (node 2 empty empty)) (node 4 empty empty))))\n",
    "    ; '(empty\n",
    "    ; (node 3 empty empty)\n",
    "    ; (node 3 empty (node 4 empty empty))\n",
    "    ; (node 3 (node 1 empty empty) empty)\n",
    "    ; (node 3 (node 1 empty empty) (node 4 empty empty))\n",
    "    ; (node 3 (node 1 empty (node 2 empty empty)) empty)\n",
    "    ; (node 3 (node 1 empty (node 2 empty empty)) (node 4 empty empty)))\n",
    "```\n"
   ]
  },
  {
   "cell_type": "code",
   "execution_count": 17,
   "metadata": {
    "vscode": {
     "languageId": "racket"
    }
   },
   "outputs": [
    {
     "name": "stdout",
     "output_type": "stream",
     "text": [
      "Testing prefix-subtreeo...\n",
      "(empty (node 3 empty empty) (node 3 empty (node 4 empty empty)) (node 3 (node 1 empty empty) empty) (node 3 (node 1 empty empty) (node 4 empty empty)) (node 3 (node 1 empty (node 2 empty empty)) empty) (node 3 (node 1 empty (node 2 empty empty)) (node 4 empty empty)))\n"
     ]
    }
   ],
   "source": [
    "(defrel (prefix-subtreeo small large)\n",
    "  (conde\n",
    "    [(== 'empty small)]\n",
    "    [(fresh (n1 v1 l1 r1 n2 v2 l2 r2)\n",
    "      (== `(node ,v1 ,l1 ,r1) small)\n",
    "      (== `(node ,v2 ,l2 ,r2) large)\n",
    "      (== v1 v2)\n",
    "      (prefix-subtreeo l1 l2)\n",
    "      (prefix-subtreeo r1 r2))]))\n",
    "\n",
    "\n",
    "(displayln \"Testing prefix-subtreeo...\")\n",
    "(displayln (run* (q) (prefix-subtreeo q '(node 3 (node 1 empty (node 2 empty empty)) (node 4 empty empty)))))"
   ]
  },
  {
   "cell_type": "markdown",
   "metadata": {},
   "source": [
    "Exercise 1.3 (⋆⋆, 10 points). Implement predicate preordero such that (`preorder tree vals`) is `#t` when vals contains exactly of values from tree in **preorder traversal** order.\n",
    "```racket\n",
    "    (run* (q) (preordero '(node 1 (node 2 (node 3 empty empty) empty) (node 4 empty empty)) '(3 2 1 4)))\n",
    "    ; '()\n",
    "    (run* (q) (preordero '(node 1 (node 2 (node 3 empty empty) empty) (node 4 empty empty)) q))\n",
    "    ; '((1 2 3 4))\n",
    "    (run* (q) (preordero q '(1 2 3)))\n",
    "    ; '((node 1 empty (node 2 empty (node 3 empty empty)))\n",
    "    ; (node 1 empty (node 2 (node 3 empty empty) empty))\n",
    "    ; (node 1 (node 2 empty empty) (node 3 empty empty))\n",
    "    ; (node 1 (node 2 empty (node 3 empty empty)) empty)\n",
    "    ; (node 1 (node 2 (node 3 empty empty) empty) empty))\n",
    "    (run 7 (q) (fresh (xs) (preordero q xs)))\n",
    "    ; '(empty\n",
    "    ; (node _.0 empty empty)\n",
    "    ; (node _.0 empty (node _.1 empty empty))\n",
    "    ; (node _.0 (node _.1 empty empty) empty)\n",
    "    ; (node _.0 empty (node _.1 empty (node _.2 empty empty)))\n",
    "    ; (node _.0 (node _.1 empty empty) (node _.2 empty empty))\n",
    "    ; (node _.0 empty (node _.1 (node _.2 empty empty) empty)))\n",
    "```"
   ]
  },
  {
   "cell_type": "code",
   "execution_count": null,
   "metadata": {
    "vscode": {
     "languageId": "racket"
    }
   },
   "outputs": [],
   "source": []
  },
  {
   "cell_type": "markdown",
   "metadata": {},
   "source": [
    "2 Simple expressions\n",
    "Exercise 2.1 (⋆, 5 points). Implement predicate expro that checks if a given term is a valid arithmetic expression:\n",
    "1. a number;\n",
    "2. a term (+ X Y) where both X and Y are valid expressions;\n",
    "3. a term (* X Y) where both X and Y are valid expressions;\n",
    "\n",
    "```racket\n",
    "    (run* (e) (expro '(+ 2 (* 3 4))))\n",
    "    ; '(_.0)\n",
    "    (run* (e) (expro '(+ 2 (* e 4))))\n",
    "    ; '()\n",
    "```\n"
   ]
  },
  {
   "cell_type": "code",
   "execution_count": 8,
   "metadata": {
    "vscode": {
     "languageId": "racket"
    }
   },
   "outputs": [
    {
     "name": "stdout",
     "output_type": "stream",
     "text": [
      "Testing expro...\n",
      "(_.0)\n",
      "()\n"
     ]
    }
   ],
   "source": [
    "(defrel (expro expr)\n",
    "  (conde\n",
    "    [(numbero expr)]\n",
    "    [(fresh (op X Y)\n",
    "       (== `(+ ,X ,Y) expr)\n",
    "       (expro X)\n",
    "       (expro Y))]\n",
    "    [(fresh (op X Y)\n",
    "       (== `(* ,X ,Y) expr)\n",
    "       (expro X)\n",
    "       (expro Y))]))\n",
    "\n",
    "(displayln \"Testing expro...\")\n",
    "(displayln (run* (e) (expro '(+ 2 (* 3 4)))))\n",
    "; '(_.0)\n",
    "(displayln (run* (e) (expro '(+ 2 (* e 4)))))\n",
    "; '()"
   ]
  },
  {
   "cell_type": "markdown",
   "metadata": {},
   "source": [
    "Exercise 2.2 (⋆⋆, 10 points). Implement predicate expro-with such that (`expro-with e subexprs`) is `#t` when `e` is an expression term that uses each subexpression from subexprs once (in that order). You may assume that subexprs has known shape (i.e. length):\n",
    "\n",
    "```racket\n",
    "    (run* (e) (expro-with e '(1 2)))\n",
    "    ; '((+ 1 2) (* 1 2))\n",
    "    (run* (e) (expro-with e '(1 2 3)))\n",
    "    ; '((+ 1 (+ 2 3))\n",
    "    ; (+ (+ 1 2) 3)\n",
    "    ; (+ 1 (* 2 3))\n",
    "    ; (+ (* 1 2) 3)\n",
    "    ; (* 1 (+ 2 3))\n",
    "    ; (* (+ 1 2) 3)\n",
    "    ; (* 1 (* 2 3))\n",
    "    ; (* (* 1 2) 3))\n",
    "```"
   ]
  },
  {
   "cell_type": "code",
   "execution_count": null,
   "metadata": {
    "vscode": {
     "languageId": "racket"
    }
   },
   "outputs": [],
   "source": []
  },
  {
   "cell_type": "markdown",
   "metadata": {},
   "source": [
    "Exercise 2.3 (⋆, 5 points). Implement a function `equations-with` such that (`equations-with subexprs`) returns a list of equations in the form `(= val expr)` where `expr` is an expression generated from subexpressions `subexpr` and `val` is its corresponding numeric value.\n",
    "```racket\n",
    "    (equations-with '(1 2 3))\n",
    "    ; '((= 6 (+ 1 (+ 2 3)))\n",
    "    ; (= 6 (+ (+ 1 2) 3))\n",
    "    ; (= 7 (+ 1 (* 2 3)))\n",
    "    ; (= 5 (+ (* 1 2) 3))\n",
    "    ; (= 5 (* 1 (+ 2 3)))\n",
    "    ; (= 9 (* (+ 1 2) 3))\n",
    "    ; (= 6 (* 1 (* 2 3)))\n",
    "    ; (= 6 (* (* 1 2) 3)))\n",
    "```"
   ]
  },
  {
   "cell_type": "code",
   "execution_count": null,
   "metadata": {
    "vscode": {
     "languageId": "racket"
    }
   },
   "outputs": [],
   "source": []
  },
  {
   "cell_type": "markdown",
   "metadata": {},
   "source": [
    "Exercise 2.4 (⋆, 5 points). Implement a relational program `atomic-expro` that checks that a given expression is atomic (not a binary operation expression).\n",
    "\n",
    "```racket\n",
    "    (run* (q) (fresh (x) (atomic-expro 2)))\n",
    "    ; '(_.0)\n",
    "    (run* (q) (fresh (x) (atomic-expro x)))\n",
    "    ; '(_.0)\n",
    "    (run* (q) (fresh (x) (atomic-expro `(+ 1 ,x))))\n",
    "    ; '()\n",
    "```"
   ]
  },
  {
   "cell_type": "code",
   "execution_count": 18,
   "metadata": {
    "vscode": {
     "languageId": "racket"
    }
   },
   "outputs": [
    {
     "name": "stdout",
     "output_type": "stream",
     "text": [
      "Testing atomic-expro...\n",
      "(_.0)\n",
      "(_.0)\n",
      "()\n"
     ]
    }
   ],
   "source": [
    "(require minikanren)\n",
    "(require minikanren/matche)\n",
    "(require minikanren/numbers)\n",
    "\n",
    "(defrel (atomic-expro t) (numbero t))\n",
    "\n",
    "\n",
    "(displayln \"Testing atomic-expro...\")\n",
    "(displayln (run* (q) (fresh (x) (atomic-expro 2))))\n",
    "; '(_.0)\n",
    "(displayln (run* (q) (fresh (x) (atomic-expro x))))\n",
    "; '(_.0)\n",
    "(displayln (run* (q) (fresh (x) (atomic-expro `(+ 1 ,x)))))\n",
    "; '()"
   ]
  },
  {
   "cell_type": "markdown",
   "metadata": {},
   "source": [
    "Exercise 2.5 (⋆, 5 points). Implement a relational program `root-equiv-expro` that checks if two expressions are related by one of the following equations directly:\n",
    "1. x + y = y + x for all x, y\n",
    "2. x + 0 = x for all x\n",
    "3. x × 1 = x for all x\n",
    "4. x × 0 = 0 for all x\n",
    "5. (x × y) × z = x × (y × z) for all x, y, z\n",
    "6. x × (y × z) = (x × y) × z for all x, y, z\n",
    "7. (x + y) + z = x + (y + z) for all x, y, z\n",
    "8. x + (y + z) = (x + y) + z for all x, y, z\n",
    "9. (x + y) × z = (x × z) + (y × z) for all x, y, z\n",
    "10. x × (y + z) = (x × y) + (x × z) for all x, y, z\n",
    "\n",
    "```racket\n",
    "    (run* (e) (root-equiv-expro '(+ x (* 0 y)) e))\n",
    "    ; '((+ (* 0 y) x))\n",
    "    (run* (e) (root-equiv-expro '(* x (* 0 y)) e))\n",
    "    ; '((* (* 0 y) x) (* (* x 0) y))\n",
    "    (run* (e) (root-equiv-expro '(* 1 (* 0 y)) e))\n",
    "    ; '((* 0 y) (* (* 0 y) 1) (* (* 1 0) y))\n",
    "```\n"
   ]
  },
  {
   "cell_type": "code",
   "execution_count": 13,
   "metadata": {
    "vscode": {
     "languageId": "racket"
    }
   },
   "outputs": [
    {
     "name": "stdout",
     "output_type": "stream",
     "text": [
      "((+ (* 0 y) x))\n",
      "((* (* x 0) y))\n",
      "((* (* 1 0) y))\n"
     ]
    }
   ],
   "source": [
    "(defrel (root-equiv-expro e1 e2)\n",
    "  (conde\n",
    "    [(fresh (x y)\n",
    "       (== `(+ ,x ,y) e1)\n",
    "       (== `(+ ,y ,x) e2))]\n",
    "\n",
    "    [(fresh (x)\n",
    "      (== `(+ ,x 0) e1)\n",
    "     (== x e2))]\n",
    "\n",
    "    [(fresh (x)\n",
    "      (== `(* ,x 1) e1)\n",
    "     (== x e2))]\n",
    "\n",
    "    [(fresh (x)\n",
    "      (== `(* ,x 0) e1)\n",
    "     (== 0 e2))]\n",
    "\n",
    "    [(fresh (x y z)\n",
    "       (== `(* (* ,x ,y) ,z) e1)\n",
    "       (== `(* ,x (* ,y ,z)) e2))]\n",
    "\n",
    "    [(fresh (x y z)\n",
    "       (== `(* ,x (* ,y ,z)) e1)\n",
    "       (== `(* (* ,x ,y) ,z) e2))]\n",
    "\n",
    "    [(fresh (x y z)\n",
    "       (== `(+ (+ ,x ,y) ,z) e1)\n",
    "       (== `(+ ,x (+ ,y ,z)) e2))]\n",
    "\n",
    "    [(fresh (x y z)\n",
    "       (== `(+ ,x (+ ,y ,z)) e1)\n",
    "       (== `(+ (+ ,x ,y) ,z) e2))]\n",
    "\n",
    "    [(fresh (x y z)\n",
    "       (== `(* (+ ,x ,y) ,z) e1)\n",
    "       (== `(+ (* ,x ,z) (* ,y ,z)) e2))]\n",
    "\n",
    "    [(fresh (x y z)\n",
    "       (== `(* ,x (+ ,y ,z)) e1)\n",
    "       (== `(+ (* ,x ,y) (* ,x ,z)) e2))]))\n",
    "\n",
    "\n",
    "(displayln (run* (e) (root-equiv-expro '(+ x (* 0 y)) e)))\n",
    "; '((+ (* 0 y) x))\n",
    "(displayln (run* (e) (root-equiv-expro '(* x (* 0 y)) e)))\n",
    "; '((* (* 0 y) x) (* (* x 0) y))\n",
    "(displayln (run* (e) (root-equiv-expro '(* 1 (* 0 y)) e)))\n",
    "; '((* 0 y) (* (* 0 y) 1) (* (* 1 0) y))"
   ]
  },
  {
   "cell_type": "markdown",
   "metadata": {},
   "source": [
    "Exercise 2.6 (⋆, 5 points). Implement a relational program `equiv-expro` that checks if two expressions are related by one of the equations above, possibly somewhere in a subterm:\n",
    "\n",
    "```racket\n",
    "    (run* (e) (equiv-expro '(+ x (* 0 y)) e))\n",
    "    ; '((+ (* 0 y) x) (+ x 0) (+ x (* y 0)))\n",
    "    (run* (e) (equiv-expro '(* x (* 0 y)) e))\n",
    "    ; '((* (* 0 y) x) (* (* x 0) y) (* x 0) (* x (* y 0)))\n",
    "    (run* (e) (equiv-expro '(* 1 (* 0 y)) e))\n",
    "    ; '((* 0 y) (* (* 0 y) 1) (* (* 1 0) y) (* 1 0) (* 1 (* y 0)))\n",
    "```"
   ]
  },
  {
   "cell_type": "code",
   "execution_count": null,
   "metadata": {
    "vscode": {
     "languageId": "racket"
    }
   },
   "outputs": [],
   "source": []
  }
 ],
 "metadata": {
  "kernelspec": {
   "display_name": "Racket",
   "language": "racket",
   "name": "racket"
  },
  "language_info": {
   "codemirror_mode": "scheme",
   "file_extension": ".rkt",
   "mimetype": "text/x-racket",
   "name": "Racket",
   "pygments_lexer": "racket",
   "version": "8.10"
  }
 },
 "nbformat": 4,
 "nbformat_minor": 2
}
