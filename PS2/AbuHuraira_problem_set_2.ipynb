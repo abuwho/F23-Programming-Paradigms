{
 "cells": [
  {
   "cell_type": "markdown",
   "id": "7223e476",
   "metadata": {},
   "source": [
    "### Submitted by: Abu Huraira"
   ]
  },
  {
   "cell_type": "markdown",
   "id": "1c35b0a1-2eb9-4702-beee-ae2c0177850c",
   "metadata": {},
   "source": [
    "**1. Implement the following functions over lists of symbols in Racket using explicit recursion (i.e. without using higher-order functions like apply, map, andmap, ormap, filter, and foldl). Each function should be implemented independently. Use tail recursion whenever it helps produce a more efficient implementation:\n",
    "(a) Count a given symbol in a list of symbols:**\n",
    "        \n",
    "```\n",
    "(count-symbol 'l '(h e l l o w o r l d)) ; ==> 3\n",
    "```\n",
    "    \n",
    "        "
   ]
  },
  {
   "cell_type": "code",
   "execution_count": 7,
   "id": "fcc47622-f22e-4340-8ac7-286bd8f23c79",
   "metadata": {},
   "outputs": [
    {
     "name": "stdout",
     "output_type": "stream",
     "text": [
      "Testing count-symbol"
     ]
    },
    {
     "data": {
      "text/html": [
       "<code>3</code>"
      ],
      "text/plain": [
       "3"
      ]
     },
     "execution_count": 7,
     "metadata": {},
     "output_type": "execute_result"
    }
   ],
   "source": [
    ";; (a) count-symbol\n",
    "(define (count-symbol symbol symbols)\n",
    "  (define (count-helper symbol symbols count)\n",
    "    (cond\n",
    "     ((null? symbols) count)\n",
    "     ((eq? (car symbols) symbol) (count-helper symbol (cdr symbols) (+ count 1)))\n",
    "     (else (count-helper symbol (cdr symbols) count))\n",
    "     )\n",
    "    )\n",
    "  (count-helper symbol symbols 0)\n",
    "  )\n",
    "\n",
    "(display \"Testing count-symbol\")\n",
    "(count-symbol 'l '(h e l l o w o r l d))"
   ]
  },
  {
   "cell_type": "markdown",
   "id": "8a11e733-dd56-425b-9f10-9883243ca10c",
   "metadata": {},
   "source": [
    "**(b) Convert a binary string represented a list of 0s and 1s into a (decimal) number:**\n",
    "```\n",
    "(binary-to-decimal '(1 0 1 1 0)) ; ==> 22\n",
    "```"
   ]
  },
  {
   "cell_type": "code",
   "execution_count": 8,
   "id": "8caced6a-33d6-44fe-977d-190ab5b36e2b",
   "metadata": {},
   "outputs": [
    {
     "name": "stdout",
     "output_type": "stream",
     "text": [
      "Testing binary-to-decimal\n"
     ]
    },
    {
     "data": {
      "text/html": [
       "<code>22</code>"
      ],
      "text/plain": [
       "22"
      ]
     },
     "execution_count": 8,
     "metadata": {},
     "output_type": "execute_result"
    }
   ],
   "source": [
    ";; (b) binary-to-decimal\n",
    "(define (binary-to-decimal bits)\n",
    "  (define (helper bits count)\n",
    "    (cond\n",
    "     ((null? bits) count)\n",
    "     ((eq? (car bits) 1) (helper (cdr bits) (+ (expt 2 (- (length bits) 1)) count)))\n",
    "     (else (helper (cdr bits) count))\n",
    "    )\n",
    "    )\n",
    "  (helper bits 0)\n",
    ")\n",
    "\n",
    "(display \"Testing binary-to-decimal\\n\")\n",
    "(binary-to-decimal '(1 0 1 1 0))"
   ]
  },
  {
   "cell_type": "markdown",
   "id": "1aac8660-c29f-4414-9503-b3a1a43a2338",
   "metadata": {},
   "source": [
    "**(c) Return the penultimate symbol in a list (you may assume it has enough symbols):**\n",
    "\n",
    "```Racket\n",
    "(penultimate '(1 0 0 1 0)) ; ==> 1\n",
    "(penultimate '(h e l l o)) ; ==> 'l\n",
    "```"
   ]
  },
  {
   "cell_type": "code",
   "execution_count": 9,
   "id": "9f79d438-5bda-4c08-b209-7558e0bd77cb",
   "metadata": {},
   "outputs": [
    {
     "name": "stdout",
     "output_type": "stream",
     "text": [
      "Testing penultimate\n",
      "1l"
     ]
    }
   ],
   "source": [
    ";; (c) penultimate\n",
    "\n",
    "(define (penultimate lst)\n",
    "  (list-ref lst (- (length lst) 2))\n",
    ")\n",
    "\n",
    "(display \"Testing penultimate\\n\")\n",
    "(display (penultimate '(1 0 0 1 0)))\n",
    "(display (penultimate '(h e l l o)))\n"
   ]
  },
  {
   "cell_type": "markdown",
   "id": "e611d6af-5f39-44ce-b3a9-fe2f2f403bb0",
   "metadata": {},
   "source": [
    "**(d) Encode a string by removing leading zeros and replacing each consecutive substring of digits with its length. For example, '(0 0 0 1 1 0 1 1 1 0 0) has some leading zeros, then 2 ones, then 1 zero, then 3 ones, then 2 zeros, so it should be encoded as '(2 1 3 2):**\n",
    "\n",
    "```\n",
    "(encode-with-lengths '(0 0 0 1 1 0 1 1 1 0 0)) ; ==> '(2 1 3 2)\n",
    "```"
   ]
  },
  {
   "cell_type": "code",
   "execution_count": 7,
   "id": "4ae104c7-0024-414a-b2b7-411743c61602",
   "metadata": {},
   "outputs": [
    {
     "name": "stdout",
     "output_type": "stream",
     "text": [
      "(1 1 0 1 1 1 0 0)\n",
      "(2 1 3)"
     ]
    }
   ],
   "source": [
    ";; (d) encode-with-digits\n",
    "\n",
    "(define (strip-zeros lst)\n",
    "  (cond\n",
    "       ((eq? (car lst) 0) (strip-zeros (cdr lst)))\n",
    "       (else lst)\n",
    "   )\n",
    ")\n",
    "\n",
    "(define (encode-with-lengths str)\n",
    "    (define (helper key lst cnt encodedlst)\n",
    "      (cond\n",
    "       ((null? lst) (reverse encodedlst))\n",
    "       ((eq? (car lst) key) (helper key (cdr lst) (+ cnt 1) encodedlst))\n",
    "       (else (helper (car lst) lst 0 (cons cnt encodedlst)))\n",
    "      )\n",
    "      )\n",
    "  \n",
    "  (define stripped (strip-zeros str))\n",
    "  (helper (car stripped) stripped 0 '())\n",
    ")\n",
    "\n",
    "(display (strip-zeros '(0 0 0 1 1 0 1 1 1 0 0)))\n",
    "(display \"\\n\")\n",
    "(display (encode-with-lengths '(0 0 0 1 1 0 1 1 1 0 0)))"
   ]
  },
  {
   "cell_type": "markdown",
   "id": "30999f3d-6b02-4139-a8fa-a7f6cbefc344",
   "metadata": {},
   "source": [
    "**(e) Decrement a binary number. Decrementing zero should produce zero:**\n",
    "```\n",
    "(decrement '(1 0 1 1 0)) ; ==> '(1 0 1 0 1)\n",
    "(decrement '(1 0 0 0 0)) ; ==> '(1 1 1 1)\n",
    "(decrement '(0)) ; ==> '(0)\n",
    "```"
   ]
  },
  {
   "cell_type": "code",
   "execution_count": 8,
   "id": "fd19ebdf-20ee-4dce-bc32-e484ce922cbe",
   "metadata": {},
   "outputs": [
    {
     "data": {
      "text/html": [
       "<code>'(1 0 1 0 1)</code>"
      ],
      "text/plain": [
       "'(1 0 1 0 1)"
      ]
     },
     "execution_count": 8,
     "metadata": {},
     "output_type": "execute_result"
    }
   ],
   "source": [
    ";; (e) decrement\n",
    "\n",
    "(define (binary-to-decimal bits)\n",
    "  (define (helper bits count)\n",
    "    (cond\n",
    "     ((null? bits) count)\n",
    "     ((eq? (car bits) 1) (helper (cdr bits) (+ (expt 2 (- (length bits) 1)) count)))\n",
    "     (else (helper (cdr bits) count))\n",
    "    )\n",
    "    )\n",
    "  (helper bits 0)\n",
    ")\n",
    "\n",
    "(define (decimal-to-binary n)\n",
    "  (if (= n 0)\n",
    "      '()\n",
    "      (append (decimal-to-binary (quotient n 2))\n",
    "              (list (remainder n 2)))))\n",
    "\n",
    "(define (decrement num)\n",
    "  (define dec (binary-to-decimal num))\n",
    "  (define subtracted (- dec 1))\n",
    "  (decimal-to-binary subtracted)\n",
    ")\n",
    "\n",
    "(decrement '(1 0 1 1 0))\n"
   ]
  },
  {
   "cell_type": "markdown",
   "id": "f9b22649-e3d0-4e02-b7fb-2af792edae63",
   "metadata": {},
   "source": [
    "**2. Implement in Racket a function sum-and-product that computes a sum and a product of a list\n",
    "of numbers.**\n",
    "For example, `(sum-and-product (list 6 2 4 1))` should compute `'(13 48)`.\n",
    "\n",
    "**(a) Implement sum-and-product using explicit recursion (i.e. without higher-order functions).**"
   ]
  },
  {
   "cell_type": "code",
   "execution_count": 9,
   "id": "f20a61bf-db7c-422d-b319-6138e887826f",
   "metadata": {},
   "outputs": [
    {
     "name": "stdout",
     "output_type": "stream",
     "text": [
      "(13 48)"
     ]
    }
   ],
   "source": [
    "(define (sum-and-product lst)\n",
    "  (define (sum-helper lst)\n",
    "    (cond\n",
    "      ((null? lst) 0)\n",
    "      (else (+ (car lst)\n",
    "               (sum-helper (cdr lst))))))\n",
    "  \n",
    "  (define (product-helper lst)\n",
    "    (cond\n",
    "      ((null? lst) 1)\n",
    "      (else (* (car lst)\n",
    "               (product-helper (cdr lst))))))\n",
    "  \n",
    "  (list (sum-helper lst) (product-helper lst)))\n",
    "\n",
    "(display (sum-and-product (list 6 2 4 1))) ; Output: '(13 48)\n"
   ]
  },
  {
   "cell_type": "markdown",
   "id": "e1a2edd0-324c-4972-8e60-1c247b84752c",
   "metadata": {},
   "source": [
    "**(b) Use the Substitution Model to verify that** `(first (sum-and-product (list x y z))` **is\n",
    "equal to** `(+ x y z)`"
   ]
  },
  {
   "cell_type": "markdown",
   "id": "983bd5cc-b61e-4ebd-b811-062006c8874a",
   "metadata": {},
   "source": [
    "**Answer:**\n",
    "\n",
    "1) (first (list (sum-helper (list x y z)) (product-helper (list x y z))))\n",
    "2) (first (list (+ x (+ y (+ z 0))) (product-helper (list x y z))))\n",
    "3) (first (list (+ x (+ y z)) (product-helper (list x y z))))\n",
    "4) (first (list (+ x (+ y z)) (* x (* y (* z 1)))))\n",
    "5) (first (list (+ x (+ y z)) (* x (* y z))))\n",
    "6) (+ x (+ y z))\n",
    "\n",
    "**[VERIFIED]**\n"
   ]
  },
  {
   "cell_type": "markdown",
   "id": "7cc9c3d0-0579-4930-9d9a-773304e4e8bd",
   "metadata": {},
   "source": [
    "**(c) Argue whether tail recursion can be used to optimize your implementation.**"
   ]
  },
  {
   "cell_type": "markdown",
   "id": "acc44f19-482a-4cd9-8833-1e750dd23246",
   "metadata": {},
   "source": [
    "**Answer:**\n",
    "\n",
    "The provided implementation of `sum-and-product` is not tail-recursive because it involves pending addition and multiplication operations after recursive calls in the `sum-helper` and `product-helper` functions. \n",
    "\n",
    "And yes, tail-recursion can be used to optimize my implementation. To optimize this implementation for tail recursion, we can modify the code to use **accumulator** variables to keep track of intermediate results during the recursive calls. \n",
    "\n",
    "The implementaion using tail recursion is shown below: "
   ]
  },
  {
   "cell_type": "code",
   "execution_count": 4,
   "id": "5ccc53a9-c7b2-4f06-92bd-6e35cdd7f023",
   "metadata": {},
   "outputs": [
    {
     "name": "stdout",
     "output_type": "stream",
     "text": [
      "(13 48)"
     ]
    }
   ],
   "source": [
    "(define (sum-and-product lst)\n",
    "  (define (sum-helper lst acc) ; using an accumulator\n",
    "    (cond\n",
    "      ((null? lst) acc)\n",
    "      (else (sum-helper (cdr lst) (+ acc (car lst))))))\n",
    "\n",
    "  (define (product-helper lst acc) ; using an accumulator\n",
    "    (cond\n",
    "      ((null? lst) acc)\n",
    "      (else (product-helper (cdr lst) (* acc (car lst))))))\n",
    "\n",
    "  (list (sum-helper lst 0) (product-helper lst 1)))\n",
    "\n",
    "(display (sum-and-product (list 6 2 4 1))) \n"
   ]
  },
  {
   "cell_type": "markdown",
   "id": "e7d26249-feca-4006-a686-7d3d06cae099",
   "metadata": {},
   "source": [
    "**3. Consider the following definitions in Racket:**\n",
    "```\n",
    "(define (dec n) (- n 2))\n",
    "(define (f n)\n",
    "    (cond\n",
    "        [(<= n 1) (- 10 n)]\n",
    "        [else (* (f (dec (dec n))) (f (dec n)))]))\n",
    "```\n",
    "\n",
    "Using the Substitution Model explain step-by-step how the following expression is computed (you can evaluate cond-expressions immediately, but evaluation of function calls to f and dec have to be explicit): `(f 3)`\n"
   ]
  },
  {
   "cell_type": "markdown",
   "id": "0a08547b-5683-489a-a0fc-6657774eb453",
   "metadata": {},
   "source": [
    "**Answer:**\n",
    "\n",
    "In `(f 3)`, for the condition, `n=3`, we move to the `else` branch.\n",
    "\n",
    "=> (* (f (dec (dec 3))) (f (dec 3))) ------------- **(i)**\n",
    "\n",
    "=> (* (f (dec 1)) (f 1))\n",
    "\n",
    "=> (* (f -1) (f 1)) ---------------**(ii)**\n",
    "\n",
    "Now, we need to evaluate `(f -1)` and `(f 1)`. \n",
    "\n",
    "In both cases `(f -1)` and `(f 1)`, the first conditional block will be used. \n",
    "\n",
    "Thus, (f -1) = (- 10 -1) = 11\n",
    "\n",
    "And (f 1) = (- 10 1) = 9\n",
    "\n",
    "Substituting these values to **(ii)**, we obtain: \n",
    "\n",
    "(* (f -1) (f 1)) = (* 11 9) = 99\n",
    "\n",
    "Thus the expression `(f 3)` is computed and it returns 99. \n"
   ]
  },
  {
   "cell_type": "code",
   "execution_count": 6,
   "id": "950023a5-9205-40fd-b91a-a6bbd0a739e5",
   "metadata": {},
   "outputs": [
    {
     "data": {
      "text/html": [
       "<code>99</code>"
      ],
      "text/plain": [
       "99"
      ]
     },
     "execution_count": 6,
     "metadata": {},
     "output_type": "execute_result"
    }
   ],
   "source": [
    "(define (dec n) (- n 2))\n",
    "    (define (f n)\n",
    "        (cond\n",
    "            [(<= n 1) (- 10 n)]\n",
    "            [else (* (f (dec (dec n))) (f (dec n)))]))\n",
    "\n",
    "(f 3)"
   ]
  }
 ],
 "metadata": {
  "kernelspec": {
   "display_name": "Racket",
   "language": "racket",
   "name": "racket"
  },
  "language_info": {
   "codemirror_mode": "scheme",
   "file_extension": ".rkt",
   "mimetype": "text/x-racket",
   "name": "racket",
   "pygments_lexer": "racket",
   "version": "3.11.4"
  }
 },
 "nbformat": 4,
 "nbformat_minor": 5
}
