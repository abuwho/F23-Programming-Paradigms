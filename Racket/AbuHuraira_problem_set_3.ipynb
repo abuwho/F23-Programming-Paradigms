{
 "cells": [
  {
   "cell_type": "markdown",
   "metadata": {},
   "source": [
    "# Week 3. Problem set\n",
    "\n",
    "Author: Abu Huraira, BS21-SD-02"
   ]
  },
  {
   "cell_type": "markdown",
   "metadata": {},
   "source": [
    "## Task 1\n",
    "\n",
    "Implement the following functions over the list of binary digits in Racket using\n",
    "higher-order functions (`apply`, `map`, `andmap`, `ormap`, `filter`, `foldl`)\n",
    "and **without explicit recursion**."
   ]
  },
  {
   "cell_type": "markdown",
   "metadata": {},
   "source": [
    "(a) Count a given symbol in a list of symbols:\n",
    "\n",
    "```lisp\n",
    "(count-symbol 'l '(h e l l o w o r l d)) ==> 3\n",
    "```"
   ]
  },
  {
   "cell_type": "code",
   "execution_count": 45,
   "metadata": {
    "vscode": {
     "languageId": "racket"
    }
   },
   "outputs": [
    {
     "name": "stdout",
     "output_type": "stream",
     "text": [
      "Testing count-symbol"
     ]
    },
    {
     "data": {
      "text/html": [
       "<code>3</code>"
      ],
      "text/plain": [
       "3"
      ]
     },
     "execution_count": 45,
     "metadata": {},
     "output_type": "execute_result"
    }
   ],
   "source": [
    "(define (count-symbol symbol lst)\n",
    "    (foldl (lambda (x y) (if (eq? x symbol) (+ y 1) y)) 0 lst)\n",
    ")\n",
    "\n",
    "(display \"Testing count-symbol\")\n",
    "(count-symbol 'l '(h e l l o w o r l d))"
   ]
  },
  {
   "cell_type": "markdown",
   "metadata": {},
   "source": [
    "(b) Convert a binary string represented a list of `0`s and `1`s into a (decimal)\n",
    "number:\n",
    "\n",
    "```lisp\n",
    "(binary-to-decimal '(1 0 1 1 0)) ; ==> 22\n",
    "```"
   ]
  },
  {
   "cell_type": "code",
   "execution_count": 46,
   "metadata": {
    "vscode": {
     "languageId": "racket"
    }
   },
   "outputs": [
    {
     "name": "stdout",
     "output_type": "stream",
     "text": [
      "Testing binary-to-decimal\n",
      "22"
     ]
    }
   ],
   "source": [
    "; Let's define our own higher order function `foldl` which gives us the index of the element as well\n",
    "(define foldl-with-index (lambda (f init lst)\n",
    "    (define (iter i lst result)\n",
    "        (if (null? lst)\n",
    "            result\n",
    "            (iter (+ i 1) (cdr lst) (f (car lst) i result))\n",
    "        )\n",
    "    )\n",
    "    (iter 0 lst init)\n",
    "))\n",
    "\n",
    "; Now we can use `foldl-with-index` to define `binary-to-decimal`\n",
    "(define (binary-to-decimal bits)\n",
    "    (foldl-with-index (lambda (bit idx sum) (+ sum (* bit (expt 2 idx)))) 0 (reverse bits))\n",
    ")\n",
    "\n",
    "\n",
    "(display \"Testing binary-to-decimal\\n\")\n",
    "(display (binary-to-decimal '(1 0 1 1 0)))"
   ]
  },
  {
   "cell_type": "markdown",
   "metadata": {},
   "source": [
    "(c) Return the penultimate symbol in a list (you may assume it has enough\n",
    "symbols):\n",
    "\n",
    "```lisp\n",
    "(penultimate '(1 0 0 1 0)) ; ==> 1\n",
    "(penultimate '(h e l l o)) ; ==> 'l\n",
    "```"
   ]
  },
  {
   "cell_type": "code",
   "execution_count": 47,
   "metadata": {
    "vscode": {
     "languageId": "racket"
    }
   },
   "outputs": [
    {
     "name": "stdout",
     "output_type": "stream",
     "text": [
      "Testing penultimate\n",
      "1\n",
      "h"
     ]
    }
   ],
   "source": [
    "(define (penultimate lst)\n",
    "  (car (foldl\n",
    "   (lambda (current result)\n",
    "     (if (null? result)\n",
    "         (list current)\n",
    "         (if (= (length result) 2)\n",
    "             (cdr result)\n",
    "             (cons current result))))\n",
    "   '()\n",
    "   lst)))\n",
    "\n",
    "\n",
    "(display \"Testing penultimate\\n\")\n",
    "(display (penultimate '(1 0 0 1 0)))\n",
    "(newline)\n",
    "(display (penultimate '(h e l l o)))\n"
   ]
  },
  {
   "cell_type": "markdown",
   "metadata": {},
   "source": [
    "(d) Encode a string by removing leading zeros and replacing each consecutive\n",
    "substring of digits with its length. For example, `'(0 0 0 1 1 0 1 1 1 0 0)` has\n",
    "some leading zeros, then 2 ones, then 1 zero, then 3 ones, then 2 zeros, so it\n",
    "should be encoded as `'(2 1 3 2)`:\n",
    "\n",
    "```lisp\n",
    "(encode-with-lengths '(0 0 0 1 1 0 1 1 1 0 0)) ; ==> '(2 1 3 2)\n",
    "```"
   ]
  },
  {
   "cell_type": "code",
   "execution_count": 48,
   "metadata": {
    "vscode": {
     "languageId": "racket"
    }
   },
   "outputs": [
    {
     "name": "stdout",
     "output_type": "stream",
     "text": [
      "Testing encode-with-lengths"
     ]
    },
    {
     "data": {
      "text/html": [
       "<code>'(2 1 3 2)</code>"
      ],
      "text/plain": [
       "'(2 1 3 2)"
      ]
     },
     "execution_count": 48,
     "metadata": {},
     "output_type": "execute_result"
    }
   ],
   "source": [
    "(define (strip-zeros lst)\n",
    "    (cond\n",
    "      ((eq? (car lst) 0) (strip-zeros (cdr lst)))\n",
    "      (else lst)\n",
    "    )\n",
    ")\n",
    "\n",
    "(define (list-consecutive-items lst)\n",
    "  (reverse (foldl (lambda (bit ans)\n",
    "                    (cond\n",
    "                      [(null? ans) (cons (list bit) ans)]\n",
    "                      [(equal? (car (car ans)) bit) (cons (cons bit (car ans)) (cdr ans))]\n",
    "                      [else (cons (list bit) ans)]))\n",
    "                  '() lst)))\n",
    "\n",
    "\n",
    "(define (encode-with-lengths elems)\n",
    "  (map (lambda (lst) (length lst)) (list-consecutive-items (strip-zeros elems))))\n",
    "\n",
    "(display \"Testing encode-with-lengths\")\n",
    "(encode-with-lengths '(0 0 0 1 1 0 1 1 1 0 0))"
   ]
  },
  {
   "cell_type": "markdown",
   "metadata": {},
   "source": [
    "(e) Decrement a binary number *without converting to decimal*. Decrementing zero\n",
    "should produce zero:\n",
    "\n",
    "```lisp\n",
    "(decrement '(1 0 1 1 0)) ; ==> '(1 0 1 0 1)\n",
    "(decrement '(1 0 0 0 0)) ; ==> '(1 1 1 1)\n",
    "(decrement '(0)) ; ==> '(0)\n",
    "```"
   ]
  },
  {
   "cell_type": "code",
   "execution_count": 49,
   "metadata": {
    "vscode": {
     "languageId": "racket"
    }
   },
   "outputs": [
    {
     "name": "stdout",
     "output_type": "stream",
     "text": [
      "Testing decrement\n",
      "(1 0 1 0 1)\n",
      "(0 1 1 1 1)\n",
      "0\n"
     ]
    }
   ],
   "source": [
    "(define (decrement binary)\n",
    "    (cond\n",
    "        [(and (eq? (car binary) 0) (eq? (length binary) 1) 0)]\n",
    "        [\n",
    "            (let* ((carry? #t)\n",
    "                (decremented (map (lambda (bit)\n",
    "                                    (if carry?\n",
    "                                        (cond\n",
    "                                        ((= bit 1)\n",
    "                                        (set! carry? #f)\n",
    "                                        0)\n",
    "                                        (else 1))\n",
    "                                        bit))\n",
    "                                (reverse binary))))\n",
    "            (reverse (if carry?\n",
    "                        (cons 1 decremented)\n",
    "                        decremented)\n",
    "            ))]))\n",
    "\n",
    "\n",
    "(display \"Testing decrement\\n\")\n",
    "(display (decrement '(1 0 1 1 0)))\n",
    "(newline)\n",
    "(display (decrement '(1 0 0 0 0)))\n",
    "(newline)\n",
    "(display (decrement '(0)))\n",
    "(newline)"
   ]
  },
  {
   "cell_type": "markdown",
   "metadata": {},
   "source": [
    "## Task 2\n",
    "\n",
    "Consider this list where each entry is a tuple of the first name, gender, age,\n",
    "and last name:\n",
    "\n",
    "```\n",
    "(define employees\n",
    "  '((\"John\" #:male 29 . \"Malkovich\") \n",
    "    (\"Ivan\" #:male 18 . \"Petrov\")\n",
    "    (\"Anna\" #:female 22 . \"Petrova\")\n",
    "    (\"Ivan\" #:male 43 . \"Ivanov\")\n",
    "    (\"Anna\" #:female 20 . \"Karenina\")))\n",
    "```"
   ]
  },
  {
   "cell_type": "markdown",
   "metadata": {},
   "source": [
    "(a) Implement a function fullname that takes employee and returns their full\n",
    "name as a pair of first and last name:\n",
    "\n",
    "```lisp\n",
    "(fullname '(\"John\" #:male 29 . \"Malkovich\"))\n",
    "; '(\"John\" . \"Malkovich\")\n",
    "```"
   ]
  },
  {
   "cell_type": "code",
   "execution_count": 50,
   "metadata": {
    "vscode": {
     "languageId": "racket"
    }
   },
   "outputs": [
    {
     "data": {
      "text/html": [
       "<code>'((\"John\" . \"Malkovich\") (\"Ivan\" . \"Petrov\") (\"Anna\" . \"Petrova\") (\"Ivan\" . \"Ivanov\") (\"Anna\" . \"Karenina\"))</code>"
      ],
      "text/plain": [
       "'((\"John\" . \"Malkovich\") (\"Ivan\" . \"Petrov\") (\"Anna\" . \"Petrova\") (\"Ivan\" . \"Ivanov\") (\"Anna\" . \"Karenina\"))"
      ]
     },
     "execution_count": 50,
     "metadata": {},
     "output_type": "execute_result"
    }
   ],
   "source": [
    "(define employees\n",
    "  '((\"John\" #:male 29 . \"Malkovich\") \n",
    "    (\"Ivan\" #:male 18 . \"Petrov\")\n",
    "    (\"Anna\" #:female 22 . \"Petrova\")\n",
    "    (\"Ivan\" #:male 43 . \"Ivanov\")\n",
    "    (\"Anna\" #:female 20 . \"Karenina\")))\n",
    "\n",
    "; fullname: tuple -> pair\n",
    "(define (fullname tupl)\n",
    "    (cons (car tupl) (cdddr tupl))\n",
    ")\n",
    "\n",
    "; get-all-full-names: list of tuples -> list of pairs\n",
    "(define (get-all-full-names lst)\n",
    "    (map fullname lst)\n",
    ")\n",
    "\n",
    "(get-all-full-names employees)"
   ]
  },
  {
   "cell_type": "markdown",
   "metadata": {},
   "source": [
    "(b) Using higher-order functions (`map`, `ormap`, `andmap`, `filter`, `foldl`) and without explicit recursion, write down an expression that computes a list of entries from employees where each employee is `#:male`."
   ]
  },
  {
   "cell_type": "code",
   "execution_count": 51,
   "metadata": {
    "vscode": {
     "languageId": "racket"
    }
   },
   "outputs": [
    {
     "data": {
      "text/html": [
       "<code>'((\"John\" #:male 29 . \"Malkovich\") (\"Ivan\" #:male 18 . \"Petrov\") (\"Ivan\" #:male 43 . \"Ivanov\"))</code>"
      ],
      "text/plain": [
       "'((\"John\" #:male 29 . \"Malkovich\") (\"Ivan\" #:male 18 . \"Petrov\") (\"Ivan\" #:male 43 . \"Ivanov\"))"
      ]
     },
     "execution_count": 51,
     "metadata": {},
     "output_type": "execute_result"
    }
   ],
   "source": [
    "(define employees\n",
    "  '((\"John\" #:male 29 . \"Malkovich\") \n",
    "    (\"Ivan\" #:male 18 . \"Petrov\")\n",
    "    (\"Anna\" #:female 22 . \"Petrova\")\n",
    "    (\"Ivan\" #:male 43 . \"Ivanov\")\n",
    "    (\"Anna\" #:female 20 . \"Karenina\")))\n",
    "\n",
    "(filter (lambda (x) \n",
    "  (if (eq? (cadr x) '#:male) #t #f)\n",
    ") employees)"
   ]
  },
  {
   "cell_type": "markdown",
   "metadata": {},
   "source": [
    "(c) Using higher-order functions (`map`, `ormap`, `andmap`, `filter`, `foldl`)\n",
    "and without explicit recursion, implement a function `employees-under-21` that\n",
    "computes a list of full names of employees whose age is under 21 given a list of\n",
    "employee entries as input:\n",
    "\n",
    "```lisp\n",
    "(employees-under-21 employees)\n",
    "; '((\"Ivan\" . \"Petrov\") (\"Anna\" . \"Karenina\"))\n",
    "```\n"
   ]
  },
  {
   "cell_type": "code",
   "execution_count": 52,
   "metadata": {
    "vscode": {
     "languageId": "racket"
    }
   },
   "outputs": [
    {
     "data": {
      "text/html": [
       "<code>'((\"Ivan\" . \"Petrov\") (\"Anna\" . \"Karenina\"))</code>"
      ],
      "text/plain": [
       "'((\"Ivan\" . \"Petrov\") (\"Anna\" . \"Karenina\"))"
      ]
     },
     "execution_count": 52,
     "metadata": {},
     "output_type": "execute_result"
    }
   ],
   "source": [
    "(define employees\n",
    "  '((\"John\" #:male 29 . \"Malkovich\") \n",
    "    (\"Ivan\" #:male 18 . \"Petrov\")\n",
    "    (\"Anna\" #:female 22 . \"Petrova\")\n",
    "    (\"Ivan\" #:male 43 . \"Ivanov\")\n",
    "    (\"Anna\" #:female 20 . \"Karenina\")))\n",
    "\n",
    "\n",
    "; defining `third` function for later use\n",
    "(define (third lst)\n",
    "    (caddr lst)\n",
    ")\n",
    "\n",
    "\n",
    "(define (empoyees-under-21 employees)\n",
    "    (map (lambda (x)\n",
    "    (cons (car x) (cdddr x))\n",
    "    )\n",
    "     (filter (lambda (x)\n",
    "      (if (< (third x) 21) #t #f)\n",
    "    ) employees)\n",
    "    )\n",
    ")\n",
    "\n",
    "(empoyees-under-21 employees)"
   ]
  },
  {
   "cell_type": "markdown",
   "metadata": {},
   "source": []
  }
 ],
 "metadata": {
  "kernelspec": {
   "display_name": "Racket",
   "language": "racket",
   "name": "racket"
  },
  "language_info": {
   "codemirror_mode": "scheme",
   "file_extension": ".rkt",
   "mimetype": "text/x-racket",
   "name": "Racket",
   "pygments_lexer": "racket",
   "version": "8.10"
  },
  "orig_nbformat": 4
 },
 "nbformat": 4,
 "nbformat_minor": 2
}
