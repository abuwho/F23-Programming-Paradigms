{
 "cells": [
  {
   "cell_type": "markdown",
   "metadata": {},
   "source": [
    "### Problem set 8\n",
    "### Submitted by: Abu Huraira"
   ]
  },
  {
   "cell_type": "markdown",
   "metadata": {},
   "source": [
    "1. What is the type of guess in the following program? Justify your answer.\n",
    "```haskell\n",
    "    guess p g = do\n",
    "        s <- getLine\n",
    "        x <- g s\n",
    "        case p x of\n",
    "            True -> return x\n",
    "            _ -> guess p g\n",
    "```\n",
    "**Answer:**"
   ]
  },
  {
   "cell_type": "markdown",
   "metadata": {},
   "source": [
    "* `guess` is a function that takes two arguments, `p` and `g`, and returns a value within a monadic context.\n",
    "\n",
    "* `p` is a function that takes an argument of some type (unspecified) and returns a `Bool`.\n",
    "\n",
    "3. `g` is a function that takes a string (`s`) and returns a value of some type (unspecified). \n",
    "\n",
    "4. The `do` notation is used, which implies that the function operates within a monadic context. In this case, it appears to be using the `IO` monad, as it interacts with the user through `getLine`.\n",
    "\n",
    "Therefore, we can infer the type of `guess` to be:\n",
    "\n",
    "```haskell\n",
    "    guess :: (a -> Bool) -> (String -> IO a) -> IO a\n",
    "```"
   ]
  },
  {
   "cell_type": "markdown",
   "metadata": {},
   "source": [
    "2. Implement a program `shoutBack :: IO ()` that goes through an infinite loop of reading user input and printing it back in CAPS. Use `toUpper :: Char -> Char` to convert a single character to upper case. Remember that `type String = [Char]`.\n",
    "```haskell\n",
    "    import Data.Char (toUpper)\n",
    "    shoutBack :: IO ()\n",
    "```"
   ]
  },
  {
   "cell_type": "code",
   "execution_count": 31,
   "metadata": {},
   "outputs": [],
   "source": [
    "import Data.Char (toUpper)\n",
    "\n",
    "shoutBack :: IO ()\n",
    "shoutBack = do\n",
    "    putStrLn \"Enter text (or 'exit' to quit):\"\n",
    "    input <- getLine\n",
    "    if input == \"exit\"\n",
    "        then putStrLn \"Goodbye!\"\n",
    "        else do\n",
    "            let shouting = map toUpper input\n",
    "            putStrLn shouting\n",
    "            shoutBack\n",
    "\n",
    "-- NOTE: Please use GHCi to test this function."
   ]
  },
  {
   "cell_type": "markdown",
   "metadata": {},
   "source": [
    "3. Implement the following functions over IO:"
   ]
  },
  {
   "cell_type": "markdown",
   "metadata": {},
   "source": [
    "(a) foreverIO :: IO a -> IO b — run a given program forever in an infinite loop:\n",
    "```\n",
    ">>> foreverIO (putStrLn \"Hello!\")\n",
    "Hello!\n",
    "Hello!\n",
    "Hello!\n",
    "...\n",
    "```\n",
    "**Solution:**"
   ]
  },
  {
   "cell_type": "code",
   "execution_count": 32,
   "metadata": {},
   "outputs": [],
   "source": [
    "foreverIO :: IO a -> IO b\n",
    "foreverIO action = do\n",
    "    action\n",
    "    foreverIO action\n",
    "\n",
    "-- foreverIO (putStrLn \"Hello!\") \n",
    "-- CAUTION: This will run forever."
   ]
  },
  {
   "cell_type": "markdown",
   "metadata": {},
   "source": [
    "(b) `whenIO :: Bool -> IO () -> IO ()` — run a given program if a condition is satisfied;\n",
    "\n",
    "**Solution:**"
   ]
  },
  {
   "cell_type": "code",
   "execution_count": 33,
   "metadata": {},
   "outputs": [
    {
     "data": {
      "text/html": [
       "<style>/* Styles used for the Hoogle display in the pager */\n",
       ".hoogle-doc {\n",
       "display: block;\n",
       "padding-bottom: 1.3em;\n",
       "padding-left: 0.4em;\n",
       "}\n",
       ".hoogle-code {\n",
       "display: block;\n",
       "font-family: monospace;\n",
       "white-space: pre;\n",
       "}\n",
       ".hoogle-text {\n",
       "display: block;\n",
       "}\n",
       ".hoogle-name {\n",
       "color: green;\n",
       "font-weight: bold;\n",
       "}\n",
       ".hoogle-head {\n",
       "font-weight: bold;\n",
       "}\n",
       ".hoogle-sub {\n",
       "display: block;\n",
       "margin-left: 0.4em;\n",
       "}\n",
       ".hoogle-package {\n",
       "font-weight: bold;\n",
       "font-style: italic;\n",
       "}\n",
       ".hoogle-module {\n",
       "font-weight: bold;\n",
       "}\n",
       ".hoogle-class {\n",
       "font-weight: bold;\n",
       "}\n",
       "\n",
       ".get-type {\n",
       "color: green;\n",
       "font-weight: bold;\n",
       "font-family: monospace;\n",
       "display: block;\n",
       "white-space: pre-wrap;\n",
       "}\n",
       ".show-type {\n",
       "color: green;\n",
       "font-weight: bold;\n",
       "font-family: monospace;\n",
       "margin-left: 1em;\n",
       "}\n",
       ".mono {\n",
       "font-family: monospace;\n",
       "display: block;\n",
       "}\n",
       ".err-msg {\n",
       "color: red;\n",
       "font-style: italic;\n",
       "font-family: monospace;\n",
       "white-space: pre;\n",
       "display: block;\n",
       "}\n",
       "#unshowable {\n",
       "color: red;\n",
       "font-weight: bold;\n",
       "}\n",
       ".err-msg.in.collapse {\n",
       "padding-top: 0.7em;\n",
       "}\n",
       "\n",
       ".highlight-code {\n",
       "white-space: pre;\n",
       "font-family: monospace;\n",
       "}\n",
       "\n",
       ".suggestion-warning { \n",
       "font-weight: bold;\n",
       "color: rgb(200, 130, 0);\n",
       "}\n",
       ".suggestion-error { \n",
       "font-weight: bold;\n",
       "color: red;\n",
       "}\n",
       ".suggestion-name {\n",
       "font-weight: bold;\n",
       "}\n",
       "\n",
       "</style><div class=\"suggestion-name\" style=\"clear:both;\">Use when</div><div class=\"suggestion-row\" style=\"float: left;\"><div class=\"suggestion-warning\">Found:</div><div class=\"highlight-code\" id=\"haskell\">if condition then action else return ()</div></div><div class=\"suggestion-row\" style=\"float: left;\"><div class=\"suggestion-warning\">Why Not:</div><div class=\"highlight-code\" id=\"haskell\">Control.Monad.when condition action</div></div>"
      ],
      "text/plain": [
       "Line 2: Use when\n",
       "Found:\n",
       "if condition then action else return ()\n",
       "Why not:\n",
       "Control.Monad.when condition action"
      ]
     },
     "metadata": {},
     "output_type": "display_data"
    },
    {
     "data": {
      "text/plain": [
       "Running because condition is True."
      ]
     },
     "metadata": {},
     "output_type": "display_data"
    }
   ],
   "source": [
    "whenIO :: Bool -> IO () -> IO ()\n",
    "whenIO condition action = if condition then action else return ()\n",
    "\n",
    "shouldRun = True\n",
    "whenIO shouldRun (putStrLn \"Running because condition is True.\")\n",
    "\n",
    "shouldRun = False\n",
    "whenIO shouldRun (putStrLn \"Not running because condition is False.\")"
   ]
  },
  {
   "cell_type": "markdown",
   "metadata": {},
   "source": [
    "(c) `maybeIO :: Maybe (IO a) -> IO (Maybe a)` — run a given program if there is one;\n",
    "\n",
    "**Solution:**"
   ]
  },
  {
   "cell_type": "code",
   "execution_count": 34,
   "metadata": {},
   "outputs": [
    {
     "data": {
      "text/plain": [
       "There is a program, hence running!\n",
       "Just ()"
      ]
     },
     "metadata": {},
     "output_type": "display_data"
    },
    {
     "data": {
      "text/plain": [
       "Nothing"
      ]
     },
     "metadata": {},
     "output_type": "display_data"
    }
   ],
   "source": [
    "maybeIO :: Maybe (IO a) -> IO (Maybe a)\n",
    "maybeIO Nothing  = return Nothing\n",
    "maybeIO (Just action) = do\n",
    "    Just <$> action\n",
    "    \n",
    "maybeIO (Just (putStrLn \"There is a program, hence running!\"))\n",
    "maybeIO Nothing"
   ]
  },
  {
   "cell_type": "markdown",
   "metadata": {},
   "source": [
    "(d) `sequenceMaybeIO :: [IO (Maybe a)] -> IO [a]` — run a sequence of programs and collect all results of type `a`;\n",
    "\n",
    "**Solution:**"
   ]
  },
  {
   "cell_type": "code",
   "execution_count": 35,
   "metadata": {},
   "outputs": [
    {
     "data": {
      "text/plain": [
       "Hello\n",
       "World\n",
       "!\n",
       "[(),(),()]"
      ]
     },
     "metadata": {},
     "output_type": "display_data"
    }
   ],
   "source": [
    "sequenceIO :: [IO a] -> IO [a]\n",
    "sequenceIO [] = return []\n",
    "sequenceIO (action:actions) = do\n",
    "    x <- action\n",
    "    xs <- sequenceIO actions\n",
    "    return (x:xs)\n",
    "\n",
    "sequenceIO [putStrLn \"Hello\", putStrLn \"World\", putStrLn \"!\"]"
   ]
  },
  {
   "cell_type": "markdown",
   "metadata": {},
   "source": [
    "(e) `whileJustIO :: (a -> IO (Maybe a)) -> a -> IO ()` — starting with an initial value of type a, apply a given function to run a program and either get Nothing and stop or get the next value and repeat;\n",
    "\n",
    "**Solution:**"
   ]
  },
  {
   "cell_type": "code",
   "execution_count": 17,
   "metadata": {},
   "outputs": [],
   "source": [
    "-- TODO"
   ]
  },
  {
   "cell_type": "markdown",
   "metadata": {},
   "source": [
    "(f) `forStateIO_ :: s -> [a] -> (s -> a -> IO s) -> IO s` — starting with an initial state of type s, go over values in the list of type `[a]` from left to right, applying a step function\n",
    "`s -> a -> IO s` to update intermediate state on every element; return the final state of type `s`:\n",
    "```haskell\n",
    "    verboseSnoc :: [Int] -> Int -> IO [Int]\n",
    "    verboseSnoc xs x = do\n",
    "        putStrL\n",
    "        \n",
    "```\n",
    "```\n",
    "    >>> forStateIO_ [] [1, 2, 3] verboseSnoc\n",
    "    appending 1 to the end of []\n",
    "    appending 2 to the end of [1]\n",
    "    appending 3 to the end of [1,2]\n",
    "    [1,2,3]\n",
    "```\n",
    "**Solution:**"
   ]
  },
  {
   "cell_type": "code",
   "execution_count": null,
   "metadata": {},
   "outputs": [],
   "source": []
  },
  {
   "cell_type": "markdown",
   "metadata": {},
   "source": [
    "4. Implement a polymorphic higher-order function iforIO_ that runs a program for each element and its index in a given list (using given function). Provide an explicit type signature for `iforIO_`.\n",
    "\n",
    "```haskell\n",
    "    example = do\n",
    "        iforIO_ [1, 2] (\\i n ->\n",
    "            iforIO_ \"ab\" (\\j c ->\n",
    "                print ((i, j), replicate n c)))\n",
    "```\n",
    "```\n",
    "    >>> example\n",
    "    ((0,0),\"a\")\n",
    "    ((0,1),\"b\")\n",
    "    ((1,0),\"aa\")\n",
    "    ((1,1),\"bb\")\n",
    "```\n",
    "**Solution:**"
   ]
  },
  {
   "cell_type": "code",
   "execution_count": 25,
   "metadata": {},
   "outputs": [
    {
     "data": {
      "text/plain": [
       "((0,0),\"a\")\n",
       "((0,1),\"b\")\n",
       "((1,0),\"aa\")\n",
       "((1,1),\"bb\")"
      ]
     },
     "metadata": {},
     "output_type": "display_data"
    }
   ],
   "source": [
    "iforIO_ :: (Monad m) => [a] -> (Int -> a -> m b) -> m ()\n",
    "iforIO_ lst f = go 0 lst\n",
    "  where\n",
    "    go _ []     = return ()\n",
    "    go i (x:xs) = do\n",
    "      _ <- f i x\n",
    "      go (i + 1) xs\n",
    "\n",
    "example :: IO ()\n",
    "example = do\n",
    "    iforIO_ [1, 2] (\\i n ->\n",
    "        iforIO_ \"ab\" (\\j c ->\n",
    "            print ((i, j), replicate n c)))\n",
    "\n",
    "example"
   ]
  }
 ],
 "metadata": {
  "kernelspec": {
   "display_name": "Haskell",
   "language": "haskell",
   "name": "haskell"
  },
  "language_info": {
   "codemirror_mode": "ihaskell",
   "file_extension": ".hs",
   "mimetype": "text/x-haskell",
   "name": "haskell",
   "pygments_lexer": "Haskell",
   "version": "9.4.5"
  }
 },
 "nbformat": 4,
 "nbformat_minor": 2
}
