{
 "cells": [
  {
   "cell_type": "markdown",
   "metadata": {},
   "source": [
    "### Problem set 7\n",
    "#### Submitted by: Abu Huraira"
   ]
  },
  {
   "cell_type": "markdown",
   "metadata": {},
   "source": [
    "Consider the following declarations:"
   ]
  },
  {
   "cell_type": "code",
   "execution_count": 43,
   "metadata": {},
   "outputs": [],
   "source": [
    "\n",
    "type Name = String\n",
    "data Grade = A | B | C | D\n",
    "data Student = Student Name Grade\n",
    "data Vec2 = Vec2 Int Int\n",
    "data Result a\n",
    "    = Success a\n",
    "    | Failure String\n",
    "    deriving Show\n",
    "\n",
    "dup f x = f x x\n",
    "dip f x = f (f x x)\n",
    "twice f x = f (f x)"
   ]
  },
  {
   "cell_type": "markdown",
   "metadata": {},
   "source": [
    "1. Specify the (most generic) types of dup, dip, and twice. Infer the type for each of the following expressions or specify a type error. Justify your answer by providing a step-by-step reasoning process. Assume that the type of integer literals is Int:\n",
    "\n",
    "**Solution:**"
   ]
  },
  {
   "cell_type": "markdown",
   "metadata": {},
   "source": [
    "The most generic types of `dup`, `dip`, and `twice` are as follows:\n",
    "\n",
    "```haskell\n",
    "dup :: (a -> a -> b) -> a -> b\n",
    "\n",
    "dip :: (a -> a -> a) -> a -> a -> a\n",
    "\n",
    "twice :: (a -> a) -> a -> a\n",
    "```\n",
    "\n",
    "(a) `dup Vec2`\n",
    "    \n",
    "= `Int -> Vec2`\n",
    "\n",
    "(b) `dup (dip (*)) 5`\n",
    "\n",
    "= `Num b => b`\n",
    "    \n",
    "(c) `twice dip`\n",
    "\n",
    "= `(t -> t -> t) -> t -> t -> t`\n",
    "\n",
    "(d) `dip dip`\n",
    "\n",
    "= TypeError couldn't match type `t` with `t -> t -> t`\n",
    "\n",
    "(e) `twice twice twice`\n",
    "\n",
    "= (t -> t) -> t -> t"
   ]
  },
  {
   "cell_type": "markdown",
   "metadata": {},
   "source": [
    "2. Using explicit recursion, implement function `studentsWithC :: [Student] -> [Name]` that returns a list of names of students with C grade:\n",
    "\n",
    "```haskell\n",
    "studensWithA [Student \"Jack\" C, Student \"Jane\" A]\n",
    "-- [\"Jack\"]\n",
    "```\n",
    "Note: you cannot use (==) to compare grades for equality.\n",
    "\n",
    "**Solution:**"
   ]
  },
  {
   "cell_type": "code",
   "execution_count": 44,
   "metadata": {},
   "outputs": [
    {
     "data": {
      "text/plain": [
       "[\"Jack\"]"
      ]
     },
     "metadata": {},
     "output_type": "display_data"
    }
   ],
   "source": [
    "studentsWithC :: [Student] -> [Name]\n",
    "studentsWithC [] = []\n",
    "studentsWithC ((Student name grade):xs) = case grade of\n",
    "    C -> name : studentsWithC xs\n",
    "    _ -> studentsWithC xs\n",
    "\n",
    "studentsWithC [Student \"Jack\" C, Student \"Jane\" A]"
   ]
  },
  {
   "cell_type": "markdown",
   "metadata": {},
   "source": [
    "3. (a) Implement a polymorphic higher-order function `whileSuccess :: (a -> Result a) -> a -> a` that applies a function repeatedly, as long as the result is a Success, otherwise, it returns the last value.\n",
    "\n",
    "```haskell\n",
    "    f n | n > 100 = Failure \"input is too large\"\n",
    "        | otherwise = Success (2 * n)\n",
    "    example1 = whileSuccess f 1 -- 64\n",
    "```"
   ]
  },
  {
   "cell_type": "code",
   "execution_count": 49,
   "metadata": {},
   "outputs": [
    {
     "data": {
      "text/plain": [
       "128"
      ]
     },
     "metadata": {},
     "output_type": "display_data"
    }
   ],
   "source": [
    "whileSuccess :: (a -> Result a) -> a -> a\n",
    "whileSuccess f x =\n",
    "    case f x of\n",
    "        Success newX -> whileSuccess f newX\n",
    "        Failure _    -> x\n",
    "\n",
    "f n | n > 100 = Failure \"input is too large\"\n",
    "    | otherwise = Success (2 * n)\n",
    "\n",
    "example1 = whileSuccess f 1\n",
    "print example1"
   ]
  },
  {
   "cell_type": "markdown",
   "metadata": {},
   "source": [
    "(b) Implement a polymorphic higher-order function\n",
    "```haskell\n",
    "    applyResult :: Result (a -> b) -> Result a -> Result b\n",
    "```\n",
    "that applies a given function to a given argument when both are available, and returns the first (leftmost) error message otherwise.\n",
    "```haskell\n",
    "    applyResult (Success length) (Success [1, 2, 3]) -- Success 3\n",
    "    applyResult (Failure \"no function\") (Failure \"no arg\") -- Failure \"no function\"\n",
    "```"
   ]
  },
  {
   "cell_type": "code",
   "execution_count": 46,
   "metadata": {},
   "outputs": [
    {
     "data": {
      "text/plain": [
       "Success 3"
      ]
     },
     "metadata": {},
     "output_type": "display_data"
    },
    {
     "data": {
      "text/plain": [
       "Failure \"no function\""
      ]
     },
     "metadata": {},
     "output_type": "display_data"
    }
   ],
   "source": [
    "applyResult :: Result (a -> b) -> Result a -> Result b\n",
    "applyResult (Success f) (Success x) = Success (f x)\n",
    "applyResult (Failure err1) _ = Failure err1\n",
    "applyResult _ (Failure err2) = Failure err2\n",
    "\n",
    "print (applyResult (Success length) (Success [1, 2, 3]))\n",
    "applyResult (Failure \"no function\") (Failure \"no arg\")"
   ]
  },
  {
   "cell_type": "markdown",
   "metadata": {},
   "source": [
    "(c) Implement a polymorphic higher-order function\n",
    "```haskell\n",
    "    fromResult :: (a -> b) -> (String -> b) -> Result a -> b\n",
    "```\n",
    "that processes any given result:\n",
    "```haskell\n",
    "    fromResult (+1) length (Success 3) -- 4\n",
    "    fromResult (+1) length (Failure \"not a number\") -- 12\n",
    "```\n"
   ]
  },
  {
   "cell_type": "code",
   "execution_count": 47,
   "metadata": {},
   "outputs": [
    {
     "data": {
      "text/plain": [
       "4"
      ]
     },
     "metadata": {},
     "output_type": "display_data"
    },
    {
     "data": {
      "text/plain": [
       "12"
      ]
     },
     "metadata": {},
     "output_type": "display_data"
    }
   ],
   "source": [
    "fromResult :: (a -> b) -> (String -> b) -> Result a -> b\n",
    "fromResult onSuccess onFailure result =\n",
    "    case result of\n",
    "        Success x -> onSuccess x\n",
    "        Failure err -> onFailure err\n",
    "\n",
    "fromResult (+1) length (Success 3)\n",
    "fromResult (+1) length (Failure \"not a number\")"
   ]
  },
  {
   "cell_type": "markdown",
   "metadata": {},
   "source": [
    "(d) Implement a polymorphic higher-order function\n",
    "```haskell\n",
    "    combineResultsWith :: (a -> b -> c) -> Result a -> Result b -> Result c\n",
    "```\n",
    "that applies a function to two results, if both are present, and returns the first (leftmost)\n",
    "error message otherwise.\n",
    "\n",
    "```haskell\n",
    "    combineResultsWith (+) (Result 2) (Result 3)\n",
    "    -- Success 5\n",
    "    combineResultsWith (+) (Failure \"x is undefined\") (Failure \"crash\")\n",
    "    -- Failure \"x is undefined\"\n",
    "```"
   ]
  },
  {
   "cell_type": "code",
   "execution_count": 48,
   "metadata": {},
   "outputs": [
    {
     "data": {
      "text/plain": [
       "Success 5"
      ]
     },
     "metadata": {},
     "output_type": "display_data"
    },
    {
     "data": {
      "text/plain": [
       "Failure \"x is undefined\""
      ]
     },
     "metadata": {},
     "output_type": "display_data"
    }
   ],
   "source": [
    "combineResultsWith :: (a -> b -> c) -> Result a -> Result b -> Result c\n",
    "combineResultsWith f (Success x) (Success y) = Success (f x y)\n",
    "combineResultsWith _ (Failure err1) _ = Failure err1\n",
    "combineResultsWith _ _ (Failure err2) = Failure err2\n",
    "\n",
    "combineResultsWith (+) (Success 2) (Success 3)\n",
    "combineResultsWith (+) (Failure \"x is undefined\") (Failure \"crash\")\n"
   ]
  }
 ],
 "metadata": {
  "kernelspec": {
   "display_name": "Haskell",
   "language": "haskell",
   "name": "haskell"
  },
  "language_info": {
   "codemirror_mode": "ihaskell",
   "file_extension": ".hs",
   "mimetype": "text/x-haskell",
   "name": "haskell",
   "pygments_lexer": "Haskell",
   "version": "9.4.5"
  }
 },
 "nbformat": 4,
 "nbformat_minor": 2
}
