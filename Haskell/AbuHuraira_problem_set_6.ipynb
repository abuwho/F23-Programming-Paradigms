{
 "cells": [
  {
   "cell_type": "markdown",
   "id": "0adf6191",
   "metadata": {},
   "source": [
    "## Problem Set 6\n",
    "### Submitted by: Abu Huraira"
   ]
  },
  {
   "cell_type": "markdown",
   "id": "8756c65d",
   "metadata": {},
   "source": [
    "1. Implement the following functions over a list of binary digits in Haskell using explicit recursion.\n",
    "Each function should be implemented independently."
   ]
  },
  {
   "cell_type": "markdown",
   "id": "61936f09",
   "metadata": {},
   "source": [
    "(a) Count a given Char in a String:\n",
    "\n",
    "```haskell\n",
    "countChar 'l' \"hello\" -- 2\n",
    "```\n",
    "\n",
    "**Solution:**"
   ]
  },
  {
   "cell_type": "code",
   "execution_count": 15,
   "id": "a1d5dafd",
   "metadata": {},
   "outputs": [
    {
     "data": {
      "text/plain": [
       "2"
      ]
     },
     "metadata": {},
     "output_type": "display_data"
    }
   ],
   "source": [
    "countChar :: Eq Char => Char -> [Char] -> Int\n",
    "countChar c [] = 0\n",
    "countChar c (x:xs) = if x == c then 1 + countChar c xs else countChar c xs\n",
    "\n",
    "countChar 'l' \"hello\" -- 2"
   ]
  },
  {
   "cell_type": "markdown",
   "id": "625096cc",
   "metadata": {},
   "source": [
    "(b) Convert a binary string represented a list of 0s and 1s into a (decimal) number:\n",
    "\n",
    "```haskell\n",
    "binaryToDecimal [1,0,1,1,0] -- 22\n",
    "```\n",
    "\n",
    "**Solution:**"
   ]
  },
  {
   "cell_type": "code",
   "execution_count": 18,
   "id": "d97405f7",
   "metadata": {},
   "outputs": [
    {
     "data": {
      "text/plain": [
       "22"
      ]
     },
     "metadata": {},
     "output_type": "display_data"
    }
   ],
   "source": [
    "binaryToDecimal :: [Int] -> Int\n",
    "binaryToDecimal [] = 0\n",
    "binaryToDecimal (x:xs) = x * 2 ^ length xs + binaryToDecimal xs\n",
    "\n",
    "binaryToDecimal [1,0,1,1,0] -- 22"
   ]
  },
  {
   "cell_type": "markdown",
   "id": "8d7c05d4",
   "metadata": {},
   "source": [
    "(c) Encode a binary string by removing leading zeros and replacing each consecutive substring of digits with its length. For example,[0,0,0,1,1,0,1,1,1,0,0] has some leading zeros,then 2 ones,then 1 zero,then 3 ones,then 2 zeros,so it should be encoded as [2,1,3,2]):\n",
    "\n",
    "```haskell\n",
    "encodeWithLengths [0,0,0,1,1,0,1,1,1,0,0] -- [2,1,3,2]\n",
    "```\n",
    "\n",
    "**Solution:**"
   ]
  },
  {
   "cell_type": "code",
   "execution_count": 3,
   "id": "a3722ce4",
   "metadata": {},
   "outputs": [
    {
     "data": {
      "text/plain": [
       "[2,1,3,2]"
      ]
     },
     "metadata": {},
     "output_type": "display_data"
    }
   ],
   "source": [
    "stripZeros :: [Int] -> [Int]\n",
    "stripZeros [] = []\n",
    "stripZeros (x:xs) = if x == 0 then stripZeros xs else x:xs\n",
    "\n",
    "\n",
    "encodeWithLengths :: [Int] -> [Int]\n",
    "encodeWithLengths nums = \n",
    "    let stripped = stripZeros nums\n",
    "        helper key lst cnt encodedlst =\n",
    "            case lst of\n",
    "                [] -> reverse (cnt:encodedlst)\n",
    "                (x:xs) -> if x == key then helper key xs (cnt + 1) encodedlst else helper x (x:xs) 0 (cnt:encodedlst)\n",
    "    in helper (head stripped) stripped 0 []\n",
    "\n",
    "\n",
    "encodeWithLengths [0,0,0,1,1,0,1,1,1,0,0]"
   ]
  },
  {
   "cell_type": "markdown",
   "id": "e8638a3d",
   "metadata": {},
   "source": [
    "(d) Decrement a binary number. Decrementing zero should produce zero:\n",
    "```haskell\n",
    "decrement [1,0,1,1,0] -- [1,0,1,0,1]\n",
    "decrement [1,0,0,0,0] -- [1,1,1,1]\n",
    "decrement [0] -- [0]\n",
    "```\n",
    "\n",
    "**Solution:**"
   ]
  },
  {
   "cell_type": "code",
   "execution_count": 5,
   "id": "429edf78",
   "metadata": {},
   "outputs": [
    {
     "data": {
      "text/plain": [
       "[1,0,1,0,1]"
      ]
     },
     "metadata": {},
     "output_type": "display_data"
    },
    {
     "data": {
      "text/plain": [
       "[1,1,1,1]"
      ]
     },
     "metadata": {},
     "output_type": "display_data"
    },
    {
     "data": {
      "text/plain": [
       "[0]"
      ]
     },
     "metadata": {},
     "output_type": "display_data"
    }
   ],
   "source": [
    "binaryToDecimal :: [Int] -> Int\n",
    "binaryToDecimal [] = 0\n",
    "binaryToDecimal (x:xs) = x * 2 ^ length xs + binaryToDecimal xs\n",
    "\n",
    "\n",
    "decrement :: [Int] -> [Int]\n",
    "decrement [0] = [0]\n",
    "decrement xs = \n",
    "    let dec = binaryToDecimal xs\n",
    "        decimalToBinary subtracted = \n",
    "            case subtracted of\n",
    "                0 -> []\n",
    "                n -> decimalToBinary (n `div` 2) ++ [n `mod` 2]\n",
    "    in decimalToBinary (dec - 1)\n",
    "\n",
    "\n",
    "decrement [1,0,1,1,0] -- [1,0,1,0,1]\n",
    "decrement [1,0,0,0,0] -- [1,1,1,1]\n",
    "decrement [0] -- [0]"
   ]
  },
  {
   "cell_type": "markdown",
   "id": "7ddfa5c0",
   "metadata": {},
   "source": [
    "(e) Implement function `propagate :: (Bool, [Int]) -> [(Bool, Int)]` that pairs a given boolean value with every integer in the list:\n",
    "```haskell\n",
    "propagate (False, [1, 2, 3]) -- [(False,1),(False,2),(False,3)]\n",
    "propagate (True, [1, 1]) -- [(True,1),(True,1)]\n",
    "```\n",
    "\n",
    "**Solution:**"
   ]
  },
  {
   "cell_type": "code",
   "execution_count": 21,
   "id": "842a5011",
   "metadata": {},
   "outputs": [
    {
     "data": {
      "text/plain": [
       "[(False,1),(False,2),(False,3)]"
      ]
     },
     "metadata": {},
     "output_type": "display_data"
    },
    {
     "data": {
      "text/plain": [
       "[(True,1),(True,1)]"
      ]
     },
     "metadata": {},
     "output_type": "display_data"
    }
   ],
   "source": [
    "propagate :: (Bool, [Int]) -> [(Bool, Int)]\n",
    "propagate (b, []) = []\n",
    "propagate (b, n:ns) = (b, n) : propagate (b, ns)\n",
    "\n",
    "propagate (False, [1, 2, 3])\n",
    "propagate (True, [1, 1])"
   ]
  },
  {
   "cell_type": "markdown",
   "id": "450134c6",
   "metadata": {},
   "source": [
    "2. Implement in Haskell a function `sumAndProduct` that computes a sum and a product of a list of\n",
    "numbers.\n",
    "For example, `sumAndProduct [6, 2, 4, 1]` should compute `[13, 48]`.\n",
    "\n",
    "(a) Implement sumAndProduct using explicit recursion (i.e. **without** higher-order functions).\n",
    "\n",
    "**Solution**:"
   ]
  },
  {
   "cell_type": "code",
   "execution_count": 24,
   "id": "054691cc",
   "metadata": {},
   "outputs": [
    {
     "data": {
      "text/plain": [
       "[13,48]"
      ]
     },
     "metadata": {},
     "output_type": "display_data"
    }
   ],
   "source": [
    "sumAndProduct :: [Int] -> [Int]\n",
    "sumAndProduct [] = []\n",
    "sumAndProduct ns = sumHelper ns : [productHelper ns]\n",
    "    where\n",
    "        sumHelper :: [Int] -> Int\n",
    "        sumHelper [] = 0\n",
    "        sumHelper (x:xs) = x + sumHelper xs\n",
    "\n",
    "        productHelper :: [Int] -> Int\n",
    "        productHelper [] = 1\n",
    "        productHelper (x:xs) = x * productHelper xs\n",
    "\n",
    "sumAndProduct [6, 2, 4, 1]"
   ]
  },
  {
   "cell_type": "markdown",
   "id": "20dee692",
   "metadata": {},
   "source": [
    "(b) Use the equational reasoning to verify that `(fst (sumAndProduct [x, y, z]))` is equal to `(x + y + z)`.\n",
    "\n",
    "**Solution**:"
   ]
  },
  {
   "cell_type": "markdown",
   "id": "29fc5332",
   "metadata": {},
   "source": [
    "(fst (sumAndProduct [x, y, z]))\n",
    "\n",
    "`sumAndProduct [x, y, z] = sumHelper [x, y, z] : [productHelper [x, y, z]]`\n",
    "\n",
    "Now, let's expand sumHelper and productHelper for the list [x, y, z]:\n",
    "\n",
    "`sumHelper [x, y, z] = x + sumHelper [y, z]`\n",
    "\n",
    "`productHelper [x, y, z] = x * productHelper [y, z]`\n",
    "\n",
    "Then, substituting the values: \n",
    "\n",
    "`sumAndProduct [x, y, z] = (x + sumHelper [y, z]) : [x * productHelper [y, z]]`\n",
    "\n",
    "`fst (sumAndProduct [x, y, z]) = fst ((x + sumHelper [y, z]) : [x * productHelper [y, z]])`\n",
    "\n",
    "`= x + sumHelper [y, z]`\n",
    "\n",
    "`= x + (y + z)`\n",
    "\n",
    "`= (x + y + z)`\n",
    "\n",
    "**[VERIFIED]**"
   ]
  },
  {
   "cell_type": "markdown",
   "id": "1e4a000b",
   "metadata": {},
   "source": [
    "3. Consider the following definitions:\n",
    "    \n",
    "    ```haskell\n",
    "    data Days = Days Double -- 7 days = Days 7\n",
    "    data Weeks = Weeks Double -- 4 weeks = Weeks 4\n",
    "    data Months = Months Double -- 1 month = Months 1\n",
    "    ```\n",
    "\n",
    "    Implement the following functions that convert between different time intervals, assuming that one month is exactly 30 days:\n",
    "    \n",
    "    ```haskell\n",
    "    daysToWeeks :: Days -> Weeks\n",
    "    weeksToMonths :: Weeks -> Months\n",
    "    mothsToDays :: Months -> Days\n",
    "    ```\n",
    "    \n",
    "**Solution**:"
   ]
  },
  {
   "cell_type": "code",
   "execution_count": null,
   "id": "f7a35fe2",
   "metadata": {},
   "outputs": [
    {
     "data": {
      "text/html": [
       "<style>/* Styles used for the Hoogle display in the pager */\n",
       ".hoogle-doc {\n",
       "display: block;\n",
       "padding-bottom: 1.3em;\n",
       "padding-left: 0.4em;\n",
       "}\n",
       ".hoogle-code {\n",
       "display: block;\n",
       "font-family: monospace;\n",
       "white-space: pre;\n",
       "}\n",
       ".hoogle-text {\n",
       "display: block;\n",
       "}\n",
       ".hoogle-name {\n",
       "color: green;\n",
       "font-weight: bold;\n",
       "}\n",
       ".hoogle-head {\n",
       "font-weight: bold;\n",
       "}\n",
       ".hoogle-sub {\n",
       "display: block;\n",
       "margin-left: 0.4em;\n",
       "}\n",
       ".hoogle-package {\n",
       "font-weight: bold;\n",
       "font-style: italic;\n",
       "}\n",
       ".hoogle-module {\n",
       "font-weight: bold;\n",
       "}\n",
       ".hoogle-class {\n",
       "font-weight: bold;\n",
       "}\n",
       "\n",
       ".get-type {\n",
       "color: green;\n",
       "font-weight: bold;\n",
       "font-family: monospace;\n",
       "display: block;\n",
       "white-space: pre-wrap;\n",
       "}\n",
       ".show-type {\n",
       "color: green;\n",
       "font-weight: bold;\n",
       "font-family: monospace;\n",
       "margin-left: 1em;\n",
       "}\n",
       ".mono {\n",
       "font-family: monospace;\n",
       "display: block;\n",
       "}\n",
       ".err-msg {\n",
       "color: red;\n",
       "font-style: italic;\n",
       "font-family: monospace;\n",
       "white-space: pre;\n",
       "display: block;\n",
       "}\n",
       "#unshowable {\n",
       "color: red;\n",
       "font-weight: bold;\n",
       "}\n",
       ".err-msg.in.collapse {\n",
       "padding-top: 0.7em;\n",
       "}\n",
       "\n",
       ".highlight-code {\n",
       "white-space: pre;\n",
       "font-family: monospace;\n",
       "}\n",
       "\n",
       ".suggestion-warning { \n",
       "font-weight: bold;\n",
       "color: rgb(200, 130, 0);\n",
       "}\n",
       ".suggestion-error { \n",
       "font-weight: bold;\n",
       "color: red;\n",
       "}\n",
       ".suggestion-name {\n",
       "font-weight: bold;\n",
       "}\n",
       "\n",
       "</style><div class=\"suggestion-name\" style=\"clear:both;\">Use newtype instead of data</div><div class=\"suggestion-row\" style=\"float: left;\"><div class=\"suggestion-warning\">Found:</div><div class=\"highlight-code\" id=\"haskell\">data Days\n",
       "  = Days Double\n",
       "  deriving Show</div></div><div class=\"suggestion-row\" style=\"float: left;\"><div class=\"suggestion-warning\">Why Not:</div><div class=\"highlight-code\" id=\"haskell\">newtype Days\n",
       "  = Days Double\n",
       "  deriving Show</div></div><div class=\"suggestion-name\" style=\"clear:both;\">Use newtype instead of data</div><div class=\"suggestion-row\" style=\"float: left;\"><div class=\"suggestion-warning\">Found:</div><div class=\"highlight-code\" id=\"haskell\">data Weeks\n",
       "  = Weeks Double\n",
       "  deriving Show</div></div><div class=\"suggestion-row\" style=\"float: left;\"><div class=\"suggestion-warning\">Why Not:</div><div class=\"highlight-code\" id=\"haskell\">newtype Weeks\n",
       "  = Weeks Double\n",
       "  deriving Show</div></div><div class=\"suggestion-name\" style=\"clear:both;\">Use newtype instead of data</div><div class=\"suggestion-row\" style=\"float: left;\"><div class=\"suggestion-warning\">Found:</div><div class=\"highlight-code\" id=\"haskell\">data Months\n",
       "  = Months Double\n",
       "  deriving Show</div></div><div class=\"suggestion-row\" style=\"float: left;\"><div class=\"suggestion-warning\">Why Not:</div><div class=\"highlight-code\" id=\"haskell\">newtype Months\n",
       "  = Months Double\n",
       "  deriving Show</div></div>"
      ],
      "text/plain": [
       "Line 1: Use newtype instead of data\n",
       "Found:\n",
       "data Days\n",
       "  = Days Double\n",
       "  deriving Show\n",
       "Why not:\n",
       "newtype Days\n",
       "  = Days Double\n",
       "  deriving ShowLine 3: Use newtype instead of data\n",
       "Found:\n",
       "data Weeks\n",
       "  = Weeks Double\n",
       "  deriving Show\n",
       "Why not:\n",
       "newtype Weeks\n",
       "  = Weeks Double\n",
       "  deriving ShowLine 5: Use newtype instead of data\n",
       "Found:\n",
       "data Months\n",
       "  = Months Double\n",
       "  deriving Show\n",
       "Why not:\n",
       "newtype Months\n",
       "  = Months Double\n",
       "  deriving Show"
      ]
     },
     "metadata": {},
     "output_type": "display_data"
    },
    {
     "data": {
      "text/plain": [
       "Weeks 1.0"
      ]
     },
     "metadata": {},
     "output_type": "display_data"
    },
    {
     "data": {
      "text/plain": [
       "Months 3.2666666666666666"
      ]
     },
     "metadata": {},
     "output_type": "display_data"
    },
    {
     "data": {
      "text/plain": [
       "Days 240.0"
      ]
     },
     "metadata": {},
     "output_type": "display_data"
    }
   ],
   "source": [
    "data Days = Days Double\n",
    "    deriving Show\n",
    "data Weeks = Weeks Double\n",
    "    deriving Show\n",
    "data Months = Months Double\n",
    "    deriving Show\n",
    "\n",
    "daysInAMonth :: Double\n",
    "daysInAMonth = 30.0\n",
    "\n",
    "daysToWeeks :: Days -> Weeks\n",
    "daysToWeeks (Days d) = Weeks (d / 7.0)\n",
    "\n",
    "weeksToMonths :: Weeks -> Months\n",
    "weeksToMonths (Weeks w) = Months (w / (daysInAMonth / 7.0))\n",
    "\n",
    "monthsToDays :: Months -> Days\n",
    "monthsToDays (Months m) = Days (m * daysInAMonth)\n",
    "\n",
    "\n",
    "daysToWeeks (Days 7.0)\n",
    "weeksToMonths (Weeks 14)\n",
    "monthsToDays (Months 8)"
   ]
  }
 ],
 "metadata": {
  "kernelspec": {
   "display_name": "Haskell",
   "language": "haskell",
   "name": "haskell"
  },
  "language_info": {
   "codemirror_mode": "ihaskell",
   "file_extension": ".hs",
   "mimetype": "text/x-haskell",
   "name": "haskell",
   "pygments_lexer": "Haskell",
   "version": "9.4.5"
  }
 },
 "nbformat": 4,
 "nbformat_minor": 5
}
