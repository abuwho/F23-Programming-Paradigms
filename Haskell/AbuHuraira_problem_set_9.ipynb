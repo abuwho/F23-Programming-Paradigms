{
 "cells": [
  {
   "cell_type": "markdown",
   "metadata": {},
   "source": [
    "## Problem set 9\n",
    "### Submitted by: Abu Huraira (a.huraira@innopolis.university)"
   ]
  },
  {
   "cell_type": "markdown",
   "metadata": {},
   "source": [
    "1. Implement the following functions over lists. You can use explicit recursion or higher-order functions that we covered so far. Make sure that your functions are lazy and work properly on all provided examples:"
   ]
  },
  {
   "cell_type": "markdown",
   "metadata": {},
   "source": [
    "(a) A function that checks whether a given list is a singleton (contains exactly one element):\n",
    "```haskell\n",
    "    isSingleton :: [a] -> Bool\n",
    "    >>> isSingleton [1]\n",
    "    True\n",
    "    >>> isSingleton [1..]\n",
    "    False\n",
    "    >>> isSingleton [[1..]]\n",
    "    True\n",
    "```\n",
    "**Solution**: "
   ]
  },
  {
   "cell_type": "code",
   "execution_count": 2,
   "metadata": {},
   "outputs": [
    {
     "data": {
      "text/plain": [
       "True"
      ]
     },
     "metadata": {},
     "output_type": "display_data"
    },
    {
     "data": {
      "text/plain": [
       "False"
      ]
     },
     "metadata": {},
     "output_type": "display_data"
    },
    {
     "data": {
      "text/plain": [
       "True"
      ]
     },
     "metadata": {},
     "output_type": "display_data"
    }
   ],
   "source": [
    "isSingleton :: [a] -> Bool\n",
    "isSingleton [x] = True\n",
    "isSingleton _ = False\n",
    "\n",
    "-- Testcases\n",
    "isSingleton [1]\n",
    "isSingleton [1..]\n",
    "isSingleton [[1..]]"
   ]
  },
  {
   "cell_type": "markdown",
   "metadata": {},
   "source": [
    "(b) A function that inserts a number into a sorted (descending) list of numbers:\n",
    "```haskell\n",
    "    insert :: Int -> [Int] -> [Int]\n",
    "    >>> insert 7 [9,8,5,3]\n",
    "    [9,8,7,5,3]\n",
    "    >>> insert 7 [9,8,8]\n",
    "    [9,8,8,7]\n",
    "    >>> take 5 (insert 7 [9,8..])\n",
    "    [9,8,7,7,6]\n",
    "```\n",
    "\n",
    "**Solution**:"
   ]
  },
  {
   "cell_type": "code",
   "execution_count": 3,
   "metadata": {},
   "outputs": [
    {
     "data": {
      "text/plain": [
       "[9,8,7,5,3]"
      ]
     },
     "metadata": {},
     "output_type": "display_data"
    },
    {
     "data": {
      "text/plain": [
       "[9,8,8,7]"
      ]
     },
     "metadata": {},
     "output_type": "display_data"
    },
    {
     "data": {
      "text/plain": [
       "[9,8,7,7,6]"
      ]
     },
     "metadata": {},
     "output_type": "display_data"
    }
   ],
   "source": [
    "insert :: Int -> [Int] -> [Int]\n",
    "insert x [] = [x]\n",
    "insert x (y:ys)\n",
    "    | x > y = x:y:ys\n",
    "    | otherwise = y:insert x ys\n",
    "\n",
    "-- Testcases\n",
    "insert 7 [9, 8, 5, 3]\n",
    "insert 7 [9, 8, 8]\n",
    "take 5 (insert 7 [9, 8..])"
   ]
  },
  {
   "cell_type": "markdown",
   "metadata": {},
   "source": [
    "(c) A function that puts a separator between every two consecutive elements:\n",
    "```haskell\n",
    "    separateBy :: [a] -> [a] -> [a]\n",
    "    >>> separateBy \",\" \"hello\"\n",
    "    \"h,e,l,l,o\"\n",
    "    >>> take 7 (separateBy [0,0] [1..])\n",
    "    [1,0,0,2,0,0,3]\n",
    "```\n",
    "\n",
    "**Solution**:"
   ]
  },
  {
   "cell_type": "code",
   "execution_count": 4,
   "metadata": {},
   "outputs": [
    {
     "data": {
      "text/plain": [
       "\"h,e,l,l,o,\""
      ]
     },
     "metadata": {},
     "output_type": "display_data"
    },
    {
     "data": {
      "text/plain": [
       "[1,0,0,2,0,0,3]"
      ]
     },
     "metadata": {},
     "output_type": "display_data"
    }
   ],
   "source": [
    "separateBy :: [a] -> [a] -> [a]\n",
    "separateBy _ [] = []\n",
    "separateBy [] ys = ys\n",
    "separateBy xs (y:ys) = y:xs ++ separateBy xs ys\n",
    "\n",
    "-- Test cases\n",
    "separateBy \",\" \"hello\"\n",
    "take 7 (separateBy [0, 0] [1..])"
   ]
  },
  {
   "cell_type": "markdown",
   "metadata": {},
   "source": [
    "(d) Split a list into a maximal prefix where all elements satisfy the predicate and suffix (all leftover elements):\n",
    "```haskell\n",
    "    splitWhen :: (a -> Bool) -> [a] -> ([a], [a])\n",
    "    >>> splitWhen (== ' ') \"Hello, world!\"\n",
    "    (\"Hello,\",\" world!\")\n",
    "    >>> take 10 (fst (splitWhen (>= 100) [1..]))\n",
    "    [1,2,3,4,5,6,7,8,9,10]\n",
    "    >>> take 10 (snd (splitWhen (>= 100) [1..]))\n",
    "    [100,101,102,103,104,105,106,107,108,109]\n",
    "    >>> take 10 (fst (splitWhen (< 0) [1..]))\n",
    "    [1,2,3,4,5,6,7,8,9,10]\n",
    "```\n",
    "\n",
    "**Solution**:"
   ]
  },
  {
   "cell_type": "code",
   "execution_count": 5,
   "metadata": {},
   "outputs": [
    {
     "data": {
      "text/plain": [
       "(\"Hello,\",\"world!\")"
      ]
     },
     "metadata": {},
     "output_type": "display_data"
    },
    {
     "data": {
      "text/plain": [
       "[1,2,3,4,5,6,7,8,9,10]"
      ]
     },
     "metadata": {},
     "output_type": "display_data"
    },
    {
     "data": {
      "text/plain": [
       "[101,102,103,104,105,106,107,108,109,110]"
      ]
     },
     "metadata": {},
     "output_type": "display_data"
    },
    {
     "data": {
      "text/plain": [
       "[1,2,3,4,5,6,7,8,9,10]"
      ]
     },
     "metadata": {},
     "output_type": "display_data"
    }
   ],
   "source": [
    "splitWhen :: (a -> Bool) -> [a] -> ([a], [a])\n",
    "splitWhen _ [] = ([], [])\n",
    "splitWhen f (x:xs)\n",
    "    | f x = ([], xs)\n",
    "    | otherwise = (x:ys, zs)\n",
    "    where (ys, zs) = splitWhen f xs\n",
    "\n",
    "\n",
    "-- Test cases\n",
    "splitWhen (== ' ') \"Hello, world!\"\n",
    "take 10 (fst (splitWhen (>= 100) [1..]))\n",
    "take 10 (snd (splitWhen (>= 100) [1..]))\n",
    "take 10 (fst (splitWhen (< 0) [1..]))"
   ]
  },
  {
   "cell_type": "markdown",
   "metadata": {},
   "source": [
    "(e) A function that groups elements, removing separators (elements that satisfy a given predicate):\n",
    "```haskell\n",
    "    groupsSeparatedBy :: (a -> Bool) -> [a] -> [[a]]\n",
    "    >>> groupsSeparatedBy (== ' ') \"Here are some words!\"\n",
    "    [\"Here\",\"are\",\"some\",\"words!\"]\n",
    "    >>> take 3 (groupsSeparatedBy (\\n -> n `mod` 4 == 0) [1..])\n",
    "    [[1,2,3],[5,6,7],[9,10,11]]\n",
    "```\n",
    "\n",
    "**Solution**:"
   ]
  },
  {
   "cell_type": "code",
   "execution_count": 6,
   "metadata": {},
   "outputs": [
    {
     "data": {
      "text/plain": [
       "[\"Here\",\"are\",\"some\",\"words!\"]"
      ]
     },
     "metadata": {},
     "output_type": "display_data"
    },
    {
     "data": {
      "text/plain": [
       "[[1,2,3],[5,6,7],[9,10,11]]"
      ]
     },
     "metadata": {},
     "output_type": "display_data"
    }
   ],
   "source": [
    "groupsSeparatedBy :: (a -> Bool) -> [a] -> [[a]]\n",
    "groupsSeparatedBy _ [] = []\n",
    "groupsSeparatedBy p xs = go xs []\n",
    "    where\n",
    "        go [] acc = [reverse acc]\n",
    "        go (y:ys) acc\n",
    "            | p y       = reverse acc : go (dropWhile p ys) []\n",
    "            | otherwise = go ys (y : acc)\n",
    "\n",
    "\n",
    "-- Test cases\n",
    "groupsSeparatedBy (== ' ') \"Here are some words!\"\n",
    "take 3 (groupsSeparatedBy (\\n -> n `mod` 4 == 0) [1..])"
   ]
  },
  {
   "cell_type": "markdown",
   "metadata": {},
   "source": [
    "2. Define the following infinite lists:"
   ]
  },
  {
   "cell_type": "markdown",
   "metadata": {},
   "source": [
    "(a) A sequence of Trifibonacci numbers: 0, 1, 1, 2, 4, 7, 13, 24, 44, 81, 149, . . . . The sequence starts with 0, 1, 1 and each of the next elements xnis defined as the sum of the three previous elements: x<sub>n</sub>=x<sub>n−1</sub> + x<sub>n−2</sub> + x<sub>n−3</sub>:\n",
    "\n",
    "```haskell\n",
    "    trifibonacci :: [Integer]\n",
    "    >>> take 10 trifibonacci\n",
    "    [0,1,1,2,4,7,13,24,44,81]\n",
    "```\n",
    "\n",
    "**Solution**:"
   ]
  },
  {
   "cell_type": "code",
   "execution_count": 7,
   "metadata": {},
   "outputs": [
    {
     "data": {
      "text/plain": [
       "[0,1,1,2,4,7,13,24,44,81]"
      ]
     },
     "metadata": {},
     "output_type": "display_data"
    }
   ],
   "source": [
    "trifibonacci :: [Integer]\n",
    "trifibonacci = 0 : 1 : 1 : zipWith3 (\\a b c -> a + b + c) trifibonacci (tail trifibonacci) (tail (tail trifibonacci))\n",
    "\n",
    "-- Test cases\n",
    "take 10 trifibonacci"
   ]
  },
  {
   "cell_type": "markdown",
   "metadata": {},
   "source": [
    "(b) A sequence of approximations of the square root of 3. Any given approximation *x* can be improved into a better approximation x′ using the formula x′ = x/2 + 3/2x.\n",
    "```haskell\n",
    "    approximationsOfRoot3 :: Double -> [Double]\n",
    "    >>> take 5 (approximationsOfRoot3 1)\n",
    "    [0.5,3.25,2.0865384615384617,1.7621632399858207,1.7323080932066346]\n",
    "```\n",
    "\n",
    "**Solution**:"
   ]
  },
  {
   "cell_type": "code",
   "execution_count": 8,
   "metadata": {},
   "outputs": [
    {
     "data": {
      "text/plain": [
       "[1.0,2.0,1.75,1.7321428571428572,1.7320508100147274]"
      ]
     },
     "metadata": {},
     "output_type": "display_data"
    }
   ],
   "source": [
    "approximationsOfRoot3 :: Double -> [Double]\n",
    "approximationsOfRoot3 = iterate (\\y -> y / 2 + 3 / (2 * y))\n",
    "\n",
    "-- Test cases\n",
    "take 5 (approximationsOfRoot3 1)"
   ]
  }
 ],
 "metadata": {
  "kernelspec": {
   "display_name": "Haskell",
   "language": "haskell",
   "name": "haskell"
  },
  "language_info": {
   "codemirror_mode": "ihaskell",
   "file_extension": ".hs",
   "mimetype": "text/x-haskell",
   "name": "haskell",
   "pygments_lexer": "Haskell",
   "version": "9.4.5"
  }
 },
 "nbformat": 4,
 "nbformat_minor": 2
}
