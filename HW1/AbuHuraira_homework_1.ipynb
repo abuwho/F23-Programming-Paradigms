{
 "cells": [
  {
   "cell_type": "markdown",
   "metadata": {},
   "source": [
    "## Homework 1 submitted by Abu Huraira"
   ]
  },
  {
   "cell_type": "markdown",
   "metadata": {},
   "source": [
    "## 1 Symbolic differentiation\n",
    "\n",
    "### 1.1 Polynomial expressions\n",
    "In this assignment you will need to implement the tools for symbolic differentiation of expressions.\n",
    "Symbolic differentiation computes derivative of a given expression symbolically (i.e. as an expression), for example, given (1 + 2x)(x + y) the computed partial derivative with respect to variable y is 1 + 2x.\n",
    "    For now, we will consider only expressions involving numeric constants, variables, binary addition, and binary multiplication. The expressions will be given as valid Racket terms, for example (note the\n",
    "use of quotation):\n",
    "1\n",
    "'(+ 1 x) ; 1 + x\n",
    "'(* 2 y) ; 2y\n",
    "'(* (+ 1 (* 2 x)) (+ x y)) ; (1 + 2x)(x + y)\n",
    "To work with these expressions, you need to be able to traverse its structure. You can use number? predicate to check whether an expression is a number.\n",
    "\n",
    "### Exercise 1.1 (⋆, 5 points). \n",
    "\n",
    "Implement the following predicates and functions:\n",
    "```racketlang\n",
    "(define (variable? expr) ...) ; check whether a given expression is a variable\n",
    "(define (sum? expr) ...) ; check whether a given expression is a sum\n",
    "(define (summand-1 expr) ...) ; extract first summand from a sum\n",
    "(define (summand-2 expr) ...) ; extract second summand from a sum\n",
    "(define (product? expr) ...) ; check whether a given expression is a product\n",
    "(define (multiplier-1 expr) ...) ; extract first multiplier from a product\n",
    "(define (multiplier-2 expr) ...) ; extract second multipler from a product\n",
    "```\n",
    "Now, whenever we have an expression we can check what kind of expression we have and decompose\n",
    "it into its constituent subexpressions.\n",
    "\n",
    "### Solution: "
   ]
  },
  {
   "cell_type": "code",
   "execution_count": 75,
   "metadata": {
    "vscode": {
     "languageId": "racket"
    }
   },
   "outputs": [
    {
     "name": "stdout",
     "output_type": "stream",
     "text": [
      "#t\n",
      "#t\n",
      "1\n",
      "x\n",
      "#t\n",
      "1\n",
      "x\n"
     ]
    }
   ],
   "source": [
    "(define (variable? expr)\n",
    "  (symbol? expr))\n",
    "\n",
    "(define (sum? expr)\n",
    "  (and (pair? expr)\n",
    "       (eq? (car expr) '+)))\n",
    "\n",
    "(define (summand-1 expr)\n",
    "  (if (sum? expr)\n",
    "      (cadr expr)\n",
    "      (error \"Not a sum\")))\n",
    "\n",
    "(define (summand-2 expr)\n",
    "  (if (sum? expr)\n",
    "      (caddr expr)\n",
    "      (error \"Not a sum\")))\n",
    "\n",
    "(define (product? expr)\n",
    "  (and (pair? expr)\n",
    "       (eq? (car expr) '*)))\n",
    "\n",
    "(define (multiplier-1 expr)\n",
    "  (if (product? expr)\n",
    "      (cadr expr)\n",
    "      (error \"Not a product\")))\n",
    "\n",
    "; \n",
    "(define (multiplier-2 expr)\n",
    "  (if (product? expr)\n",
    "      (caddr expr)\n",
    "      (error \"Not a product\")))\n",
    "\n",
    "; Test cases\n",
    "(displayln (variable? 'x))\n",
    "(displayln (sum? '(+ 1 x)))\n",
    "(displayln (summand-1 '(+ 1 x)))\n",
    "(displayln (summand-2 '(+ 1 x)))\n",
    "(displayln (product? '(* 1 x)))\n",
    "(displayln (multiplier-1 '(* 1 x)))\n",
    "(displayln (multiplier-2 '(* 1 x)))"
   ]
  },
  {
   "cell_type": "markdown",
   "metadata": {},
   "source": [
    "### Exercise 1.2 (⋆, 5 points).\n",
    "Implement a recursive function derivative that computes a symbolic derivative of a given expression with respect to a given variable. At this point you are not expected to simplify expressions after differentiation:\n",
    "\n",
    "```lisp\n",
    "(derivative '(+ 1 x) 'x)\n",
    "; '(+ 0 1)\n",
    "(derivative '(* 2 y) 'y)\n",
    "; '(+ (* 0 y) (* 2 1))\n",
    "(derivative '(* (+ x y) (+ x (+ x x))) 'x)\n",
    "; '(+ (* (+ 1 0) (+ x (+ x x))) (* (+ x y) (+ 1 (+ 1 1))))\n",
    "\n",
    "```\n",
    "### Solution: "
   ]
  },
  {
   "cell_type": "code",
   "execution_count": 76,
   "metadata": {
    "vscode": {
     "languageId": "racket"
    }
   },
   "outputs": [
    {
     "name": "stdout",
     "output_type": "stream",
     "text": [
      "(+ 0 1)\n",
      "(+ (* 0 y) (* 2 1))\n",
      "(+ (* (+ 1 0) (+ x (+ x x))) (* (+ x y) (+ 1 (+ 1 1))))\n"
     ]
    }
   ],
   "source": [
    "(define (derivative expr var)\n",
    "  (cond\n",
    "    ((variable? expr)\n",
    "     (if (eq? expr var)\n",
    "         1\n",
    "         0))\n",
    "    ((number? expr) 0)\n",
    "    ((sum? expr)\n",
    "     (list '+ (derivative (summand-1 expr) var)\n",
    "              (derivative (summand-2 expr) var)))\n",
    "    ((product? expr)\n",
    "     (list '+ (list '* (derivative (multiplier-1 expr) var) (multiplier-2 expr))\n",
    "              (list '* (multiplier-1 expr) (derivative (multiplier-2 expr) var))))))\n",
    "\n",
    "\n",
    "; Test cases\n",
    "(displayln (derivative '(+ 1 x) 'x))\n",
    "(displayln (derivative '(* 2 y) 'y))\n",
    "(displayln (derivative '(* (+ x y) (+ x (+ x x))) 'x))"
   ]
  },
  {
   "cell_type": "markdown",
   "metadata": {},
   "source": [
    "### Exercise 1.3 (⋆⋆, 10 points). \n",
    "Implement a recursive function simplify that simplifies an expression using the following rules:\n",
    "1. 0 + e = e for all expressions e,\n",
    "2. e + 0 = e for all expressions e,\n",
    "3. 1 ∗ e = e for all expressions e,\n",
    "4. e ∗ 1 = e for all expressions e,\n",
    "5. 0 ∗ e = 0 for all expressions e,\n",
    "6. e ∗ 0 = 0 for all expressions e,\n",
    "7. sums and products of numeric constants should be computed.\n",
    "Examples:\n",
    "```racketlang\n",
    "(simplify '(+ 0 1))\n",
    "; 1\n",
    "(simplify '(+ (* 0 y) (* 2 1)))\n",
    "; 2\n",
    "(simplify '(+ (* (+ 1 0) (+ x (+ x x))) (* (+ x y) (+ 1 (+ 1 1)))))\n",
    "; '(+ (+ x (+ x x)) (* (+ x y) 3))\n",
    "```\n",
    "*Hint: it might be easier to implement a non-recursive function* `simplify-at-root` *that only simplifies expression if it matches exactly left-hand side of one of the rules. Then use simplify-at-root to implement a recursive function simplify.*\n",
    "\n",
    "### Solution:"
   ]
  },
  {
   "cell_type": "code",
   "execution_count": 77,
   "metadata": {
    "vscode": {
     "languageId": "racket"
    }
   },
   "outputs": [
    {
     "name": "stdout",
     "output_type": "stream",
     "text": [
      "1\n",
      "2\n",
      "(+ (+ x (+ x x)) (* (+ x y) 3))\n"
     ]
    }
   ],
   "source": [
    "(define (simplify-at-root expr)\n",
    "  (cond\n",
    "    ((and (sum? expr)\n",
    "          (number? (summand-1 expr))\n",
    "          (number? (summand-2 expr)))\n",
    "     (+ (summand-1 expr) (summand-2 expr)))\n",
    "    ((and (product? expr)\n",
    "          (number? (multiplier-1 expr))\n",
    "          (number? (multiplier-2 expr)))\n",
    "     (* (multiplier-1 expr) (multiplier-2 expr)))\n",
    "    ((and (eq? (car expr) '+)\n",
    "          (eq? (cadr expr) 0))\n",
    "     (simplify-at-root (caddr expr)))\n",
    "    ((and (eq? (car expr) '+)\n",
    "          (eq? (caddr expr) 0))\n",
    "     (simplify-at-root (cadr expr)))\n",
    "    ((and (eq? (car expr) '*)\n",
    "          (eq? (cadr expr) 1))\n",
    "     (simplify-at-root (caddr expr)))\n",
    "    ((and (eq? (car expr) '*)\n",
    "          (eq? (caddr expr) 1))\n",
    "     (simplify-at-root (cadr expr)))\n",
    "    ((and (eq? (car expr) '+)\n",
    "          (eq? (cadr expr) 0)\n",
    "          (eq? (caddr expr) 0))\n",
    "     0)\n",
    "    ((and (eq? (car expr) '*)\n",
    "          (or (eq? (cadr expr) 0)\n",
    "              (eq? (caddr expr) 0)))\n",
    "     0)\n",
    "    (else expr)))\n",
    "\n",
    "(define (simplify expr)\n",
    "  (if (or (number? expr) (variable? expr))\n",
    "      expr\n",
    "      (simplify-at-root (list (car expr)\n",
    "                              (simplify (cadr expr))\n",
    "                              (simplify (caddr expr))))))\n",
    "\n",
    "; Test cases\n",
    "(displayln (simplify '(+ 0 1)))\n",
    "(displayln (simplify '(+ (* 0 y) (* 2 1))))\n",
    "(displayln (simplify '(+ (* (+ 1 0) (+ x (+ x x))) (* (+ x y) (+ 1 (+ 1 1))))))\n"
   ]
  },
  {
   "cell_type": "markdown",
   "metadata": {},
   "source": [
    "### Exercise 1.5 (⋆, 5 points).\n",
    "Implement a recursive function to-infix that converts an expression into an infix form:\n",
    "```racketlang\n",
    "(to-infix '(+ (+ x (+ x x)) (* (+ x y) 3))\n",
    "; '((x + (x + x)) + ((x + y) * 3)\n",
    "```\n",
    "\n",
    "### Solution: "
   ]
  },
  {
   "cell_type": "code",
   "execution_count": 78,
   "metadata": {
    "vscode": {
     "languageId": "racket"
    }
   },
   "outputs": [
    {
     "name": "stdout",
     "output_type": "stream",
     "text": [
      "((x + (x + x)) + ((x + y) * 3))\n"
     ]
    }
   ],
   "source": [
    "(define (to-infix expr)\n",
    "  (cond\n",
    "    ((number? expr) expr)\n",
    "    ((variable? expr) expr)\n",
    "    ((sum? expr)\n",
    "     (list (to-infix (summand-1 expr))\n",
    "           '+\n",
    "           (to-infix (summand-2 expr))))\n",
    "    ((product? expr)\n",
    "     (list (to-infix (multiplier-1 expr))\n",
    "           '*\n",
    "           (to-infix (multiplier-2 expr))))))\n",
    "\n",
    "; Testing to-infix\n",
    "(displayln (to-infix '(+ (+ x (+ x x)) (* (+ x y) 3))))"
   ]
  },
  {
   "cell_type": "markdown",
   "metadata": {},
   "source": [
    "## 1.2 More functions\n",
    "### Exercise 1.6 (⋆, 5 points). \n",
    "Update functions derivative and simplify to support the following functions (here e, e1 and e2 denote arbitary expressions):\n",
    "1. exponentiation: (e1)^(e2)\n",
    "2. trigonometric functions: sin (e), cos (e), tan (e)\n",
    "3. natural logarithm: log (e)\n",
    "\n",
    "### Solution: "
   ]
  },
  {
   "cell_type": "code",
   "execution_count": null,
   "metadata": {
    "vscode": {
     "languageId": "racket"
    }
   },
   "outputs": [],
   "source": []
  },
  {
   "cell_type": "markdown",
   "metadata": {},
   "source": [
    "### Exercise 1.7 (⋆⋆, 10 points). \n",
    "Update functions derivative and simplify to support the following polyvariadic sums and products:\n",
    "\n",
    "```racketlang\n",
    "(derivative '(+ 1 x y (* x y z)) 'x)\n",
    "; '(+ 0 1 0 (+ (* 1 y z) (* x 0 z) (* x y 0)))\n",
    "(simplify '(+ 0 1 0 (+ (* 1 y z) (* x 0 z) (* x y 0))))\n",
    "; '(+ 1 (* y z))\n",
    "```\n",
    "\n",
    "“polyvariadic” means that a function or operator can support arbitrary number of arguments; for example, + in Racket can accept as many arguments, as user wants: (+ 1 2 3 4) computes to 1 + 2 + 3 + 4 = 10.\n",
    "\n",
    "### Solution: "
   ]
  },
  {
   "cell_type": "code",
   "execution_count": null,
   "metadata": {
    "vscode": {
     "languageId": "racket"
    }
   },
   "outputs": [],
   "source": []
  },
  {
   "cell_type": "markdown",
   "metadata": {},
   "source": [
    "## 1.3 Gradient\n",
    "\n",
    "### Exercise 1.8 (⋆⋆, 10 points). \n",
    "Implement a function variables-of that returns a (sorted) list of distinct variables used in a given expression:\n",
    "\n",
    "```racketlang\n",
    "(variables-of '(+ 1 x y (* x y z)))\n",
    "; '(x y z)\n",
    "```"
   ]
  },
  {
   "cell_type": "code",
   "execution_count": 79,
   "metadata": {
    "vscode": {
     "languageId": "racket"
    }
   },
   "outputs": [
    {
     "name": "stdout",
     "output_type": "stream",
     "text": [
      "(x y z)\n",
      "()\n",
      "(x y z)\n"
     ]
    }
   ],
   "source": [
    "(define (variables-of expr)\n",
    "  (define (collect-variables expr variables)\n",
    "    (cond\n",
    "      ((variable? expr)\n",
    "       (if (not (member expr variables equal?))\n",
    "           (cons expr variables)\n",
    "           variables))\n",
    "      \n",
    "      ((pair? expr)\n",
    "       (foldl collect-variables variables (cdr expr)))\n",
    "      \n",
    "      (else variables)))\n",
    "  \n",
    "  (sort (collect-variables expr '()) symbol<?))\n",
    "\n",
    "; Testing variables-of\n",
    "(displayln (variables-of '(+ 1 x y (* x y z))))\n",
    "(displayln (variables-of '(+ 1 2 3)))\n",
    "(displayln (variables-of '(+ 1 x y (* x y z) 1 2 3)))"
   ]
  },
  {
   "cell_type": "markdown",
   "metadata": {},
   "source": [
    "### Exercise 1.9 (⋆⋆, 10 points). \n",
    "\n",
    "Implement a function gradient that returns a gradient of a multivariable expression (given explicitly the list of variables). Recall that the gradient ∇f is a vector consisting of partial derivatives:\n",
    "\n",
    "\n",
    "Represent gradient in Racket as a list of expressions:\n",
    "\n",
    "```racketlang\n",
    "(gradient '(+ 1 x y (* x y z)) '(x y z))\n",
    "; '((+ 1 (* y z)) (+ 1 (* x z)) (* x y))\n",
    "```\n",
    "\n",
    "### Solution: "
   ]
  }
 ],
 "metadata": {
  "kernelspec": {
   "display_name": "Racket",
   "language": "racket",
   "name": "racket"
  },
  "language_info": {
   "codemirror_mode": "scheme",
   "file_extension": ".rkt",
   "mimetype": "text/x-racket",
   "name": "Racket",
   "pygments_lexer": "racket",
   "version": "8.10"
  },
  "orig_nbformat": 4
 },
 "nbformat": 4,
 "nbformat_minor": 2
}
